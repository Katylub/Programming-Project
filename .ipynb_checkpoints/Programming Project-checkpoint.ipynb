{
 "cells": [
  {
   "cell_type": "markdown",
   "metadata": {},
   "source": [
    "# Project Introduction\n",
    "_______________________________________________________________________________________________________________________________"
   ]
  },
  {
   "cell_type": "markdown",
   "metadata": {},
   "source": [
    "This project concerns the simulation and creation of a real-world phenomenom dataset and compare the variables on it, using python packages as Numpy. In the project will be covered the academical requested points below:\n",
    "\n",
    "- Choose a real-world phenomenon that can be measured and for which you could collect at least one-hundred data points across at least four diﬀerent variables.\n",
    "- Investigate the types of variables involved, their likely distributions, and their relationships with each other.\n",
    "- Synthesise/simulate a data set as closely matching their properties as possible.\n",
    "- Detail your research and implement the simulation in a Jupyter notebook – the data set itself can simply be displayed in an output cell within the notebook.\n"
   ]
  },
  {
   "cell_type": "markdown",
   "metadata": {},
   "source": [
    "# Project Idea"
   ]
  },
  {
   "cell_type": "markdown",
   "metadata": {},
   "source": [
    "For this project and after research, I will pick the real-world phenomenom of life expectancy. \n",
    "\n",
    "Life expectancy is defined as the mean number of years that a new-born child can expect to live if subjected throughout his life to the current mortality conditions (age specific probabilities of dying).\n",
    "\n",
    "I have noticed that there are lots of studies on this matter considering demographic variables, income and mortality rates. There are multiple factors that affect directly on the life expectancy and I have found this matter interesting and the best option for this project. \n",
    "\n",
    "As mentioned the main variable to study will be the life expectancy (media) and will be taken as the first and most interesting variable for this Project purpose. I will evaluate 4 countries as demographic sample and will assign a number to each country from 1 to 4, so this will be the second variable. \n",
    "\n",
    "The following variable will give more information about the relation between life and income and will be evalauated the economy per capita.\n",
    "\n",
    "The other two variables measure the health force impact in life expectancy and the variables I took in consideration where the goverment expenditure and a the density of health professionals have in each contry for this matter.\n",
    "\n",
    "The countries that I choose have in general similar expectancy mean, and by coincidence I realised the other variables were similar as well, therefore I choose to add uniform random data.\n",
    "\n",
    "Each variable will be explained with more details below.\n"
   ]
  },
  {
   "cell_type": "markdown",
   "metadata": {},
   "source": [
    "# Create Dataset\n",
    "_______________________________________________________________________________________________________________________________"
   ]
  },
  {
   "cell_type": "markdown",
   "metadata": {},
   "source": [
    "**Country:** We will evaluate 4 countries and they will be represented as integer, I will assign a number to each of them. Each country will have 25 rows and is represented as below:\n",
    "1. France\n",
    "2. Iceland\n",
    "3. Norway\n",
    "4. Sweden"
   ]
  },
  {
   "cell_type": "code",
   "execution_count": 10,
   "metadata": {},
   "outputs": [],
   "source": [
    "# First import Numpy which will be used to create all the random variables\n",
    "import numpy as np\n",
    "\n",
    "# Creation of array with 4 number of the list\n",
    "c1=np.array([1,2,3,4])\n",
    "\n",
    "#Assign 25 rows to each number\n",
    "c2=np.repeat(c1, 25)"
   ]
  },
  {
   "cell_type": "markdown",
   "metadata": {},
   "source": [
    "**Life Expectancy:** This data will be represented as a floating number and the parameters are as close as possible to real data. The data was randomly choose using uniform distribution (See plot below), as the media life expectancy for these countries is similar. This is the reference [web page](https://ec.europa.eu/eurostat/databrowser/view/sdg_03_10/default/bar?lang=en).  "
   ]
  },
  {
   "cell_type": "code",
   "execution_count": 23,
   "metadata": {},
   "outputs": [
    {
     "data": {
      "image/png": "[encoded data removed]",
      "text/plain": [
       "<Figure size 432x288 with 1 Axes>"
      ]
     },
     "metadata": {
      "needs_background": "light"
     },
     "output_type": "display_data"
    }
   ],
   "source": [
    "# Assign uniform number similar to the real media register for life expectancy\n",
    "le= np.random.uniform(82,83,100)\n",
    "\n",
    "# Import Matplotlib which will be used to create the plots and see variables distribution\n",
    "import matplotlib.pyplot as plt\n",
    "\n",
    "#Plot of Life Expectancy Variable\n",
    "lep = plt.hist(le, bins=10, density=True)"
   ]
  },
  {
   "cell_type": "markdown",
   "metadata": {},
   "source": [
    "**Gross National Income Per Capita:** This data is represented as a integer number and the parameters are adjusted from real data references and you can see this information in the web page used [here](https://www.prb.org/international/indicator/gross-national-income/snapshot). The data was randomly choose using uniform distribution, as the media income for these countries is between these parameters and not far from each other. "
   ]
  },
  {
   "cell_type": "code",
   "execution_count": 24,
   "metadata": {},
   "outputs": [
    {
     "data": {
      "image/png": "[encoded data removed]",
      "text/plain": [
       "<Figure size 432x288 with 1 Axes>"
      ]
     },
     "metadata": {
      "needs_background": "light"
     },
     "output_type": "display_data"
    }
   ],
   "source": [
    "# Assign uniform number similar to the real media register for Income Per Capita\n",
    "ipc= np.random.randint(low=45000, high=76000, size=100)\n",
    "\n",
    "#Plot of Fross Income Per Capita\n",
    "ipcp = plt.hist(ipc, bins=10, density=True)"
   ]
  },
  {
   "cell_type": "markdown",
   "metadata": {},
   "source": [
    "**% Goverment Health Expenditure:** General government expenditure on health as a percentage of total government expenditure. This data is represented as a integer number and the parameters are adjusted from real data references and you can see this information in the web page used [here](http://apps.who.int/gho/portal/uhc-hss-cabinet-wrapper-v2.jsp?id=1030202). The data was randomly choose using uniform distribution, as the media goverment expenditure for these countries is between these parameters and not far from each other. "
   ]
  },
  {
   "cell_type": "code",
   "execution_count": 25,
   "metadata": {},
   "outputs": [
    {
     "data": {
      "image/png": "[encoded data removed]",
      "text/plain": [
       "<Figure size 432x288 with 1 Axes>"
      ]
     },
     "metadata": {
      "needs_background": "light"
     },
     "output_type": "display_data"
    }
   ],
   "source": [
    "# Assign uniform number similar to the real media register for Goverment Health Expenditure\n",
    "ghe = np.random.uniform(15.69,19.03,100)\n",
    "\n",
    "#Plot of Goverment Health Expenditure \n",
    "ghep = plt.hist(ghe, bins=10, density=True)"
   ]
  },
  {
   "cell_type": "markdown",
   "metadata": {},
   "source": [
    "**Health professionals density:** Health professionals density per 10 000 population. This data is represented as a integer number and the parameters are adjusted from real data references and you can see this information in the web page used [here](http://apps.who.int/gho/portal/uhc-hss-cabinet-wrapper-v2.jsp?id=1030301). The data was randomly choose using uniform distribution, as the media professional density for these countries is between these parameters and not far from each other. "
   ]
  },
  {
   "cell_type": "code",
   "execution_count": 26,
   "metadata": {},
   "outputs": [
    {
     "data": {
      "image/png": "[encoded data removed]",
      "text/plain": [
       "<Figure size 432x288 with 1 Axes>"
      ]
     },
     "metadata": {
      "needs_background": "light"
     },
     "output_type": "display_data"
    }
   ],
   "source": [
    "# Assign uniform number similar to the real media register for Health Professional Density\n",
    "hpd = np.random.uniform (138,221.1,100)\n",
    "\n",
    "#Plot of Health Professionals Density\n",
    "ghep = plt.hist(ghe, bins=10, density=True)"
   ]
  },
  {
   "cell_type": "markdown",
   "metadata": {},
   "source": [
    "**Population per cities of the country:** This variable will represent the population on each city/sate of the cities evaluated for the research. For this variable, I will take triangular distribution to represent different population sizes and the number is between 0 and 100.000 with a peak of 50.000. These numbers are in line with the other variables choosen. "
   ]
  },
  {
   "cell_type": "code",
   "execution_count": 27,
   "metadata": {},
   "outputs": [
    {
     "data": {
      "image/png": "[encoded data removed]",
      "text/plain": [
       "<Figure size 432x288 with 1 Axes>"
      ]
     },
     "metadata": {
      "needs_background": "light"
     },
     "output_type": "display_data"
    }
   ],
   "source": [
    "# Assign triangular number for population between o and 100.000 with a peak of 50.000\n",
    "pp = np.random.triangular(0, 50000, 100000, 100)\n",
    "\n",
    "#Plot of Population cities\n",
    "ppp = plt.hist(pp, bins=10, density=True)"
   ]
  },
  {
   "cell_type": "markdown",
   "metadata": {},
   "source": [
    "**Dataset**: Now that we have created the variables we can put all the variables together for our dataset."
   ]
  },
  {
   "cell_type": "code",
   "execution_count": 16,
   "metadata": {},
   "outputs": [],
   "source": [
    "# Import Pandas package to create the dataframe\n",
    "import pandas as pd"
   ]
  },
  {
   "cell_type": "code",
   "execution_count": 17,
   "metadata": {},
   "outputs": [],
   "source": [
    "#First we created the function\n",
    "df= pd.DataFrame()\n",
    "\n",
    "#Assign the variables\n",
    "Country = c2\n",
    "Expectancy = le\n",
    "IPC = ipc\n",
    "Goverment = ghe\n",
    "Professionals = hpd\n",
    "Population = pp\n",
    "\n",
    "#Add to the function\n",
    "df['Country'] = c2\n",
    "df['Expectancy'] = le\n",
    "df['IPC'] = ipc\n",
    "df['Goverment'] = ghe\n",
    "df['Professionals'] = hpd\n",
    "df['Population'] = pp"
   ]
  },
  {
   "cell_type": "code",
   "execution_count": 18,
   "metadata": {},
   "outputs": [
    {
     "data": {
      "text/html": [
       "<div>\n",
       "<style scoped>\n",
       "    .dataframe tbody tr th:only-of-type {\n",
       "        vertical-align: middle;\n",
       "    }\n",
       "\n",
       "    .dataframe tbody tr th {\n",
       "        vertical-align: top;\n",
       "    }\n",
       "\n",
       "    .dataframe thead th {\n",
       "        text-align: right;\n",
       "    }\n",
       "</style>\n",
       "<table border=\"1\" class=\"dataframe\">\n",
       "  <thead>\n",
       "    <tr style=\"text-align: right;\">\n",
       "      <th></th>\n",
       "      <th>Country</th>\n",
       "      <th>Expectancy</th>\n",
       "      <th>IPC</th>\n",
       "      <th>Goverment</th>\n",
       "      <th>Professionals</th>\n",
       "      <th>Population</th>\n",
       "    </tr>\n",
       "  </thead>\n",
       "  <tbody>\n",
       "    <tr>\n",
       "      <td>0</td>\n",
       "      <td>1</td>\n",
       "      <td>82.219665</td>\n",
       "      <td>45318</td>\n",
       "      <td>18.408277</td>\n",
       "      <td>184.950342</td>\n",
       "      <td>22344.951015</td>\n",
       "    </tr>\n",
       "    <tr>\n",
       "      <td>1</td>\n",
       "      <td>1</td>\n",
       "      <td>82.782122</td>\n",
       "      <td>74586</td>\n",
       "      <td>18.443482</td>\n",
       "      <td>156.677494</td>\n",
       "      <td>9303.240272</td>\n",
       "    </tr>\n",
       "    <tr>\n",
       "      <td>2</td>\n",
       "      <td>1</td>\n",
       "      <td>82.397090</td>\n",
       "      <td>59096</td>\n",
       "      <td>17.256896</td>\n",
       "      <td>151.620953</td>\n",
       "      <td>32962.840945</td>\n",
       "    </tr>\n",
       "    <tr>\n",
       "      <td>3</td>\n",
       "      <td>1</td>\n",
       "      <td>82.297852</td>\n",
       "      <td>58441</td>\n",
       "      <td>18.160287</td>\n",
       "      <td>214.715206</td>\n",
       "      <td>40833.361618</td>\n",
       "    </tr>\n",
       "    <tr>\n",
       "      <td>4</td>\n",
       "      <td>1</td>\n",
       "      <td>82.915972</td>\n",
       "      <td>63205</td>\n",
       "      <td>16.462240</td>\n",
       "      <td>195.533161</td>\n",
       "      <td>62606.849863</td>\n",
       "    </tr>\n",
       "    <tr>\n",
       "      <td>...</td>\n",
       "      <td>...</td>\n",
       "      <td>...</td>\n",
       "      <td>...</td>\n",
       "      <td>...</td>\n",
       "      <td>...</td>\n",
       "      <td>...</td>\n",
       "    </tr>\n",
       "    <tr>\n",
       "      <td>95</td>\n",
       "      <td>4</td>\n",
       "      <td>82.404276</td>\n",
       "      <td>67884</td>\n",
       "      <td>17.122048</td>\n",
       "      <td>162.246167</td>\n",
       "      <td>44328.908738</td>\n",
       "    </tr>\n",
       "    <tr>\n",
       "      <td>96</td>\n",
       "      <td>4</td>\n",
       "      <td>82.415263</td>\n",
       "      <td>68182</td>\n",
       "      <td>17.283946</td>\n",
       "      <td>177.193010</td>\n",
       "      <td>44915.512550</td>\n",
       "    </tr>\n",
       "    <tr>\n",
       "      <td>97</td>\n",
       "      <td>4</td>\n",
       "      <td>82.730159</td>\n",
       "      <td>51573</td>\n",
       "      <td>15.701651</td>\n",
       "      <td>211.089852</td>\n",
       "      <td>38729.507935</td>\n",
       "    </tr>\n",
       "    <tr>\n",
       "      <td>98</td>\n",
       "      <td>4</td>\n",
       "      <td>82.190305</td>\n",
       "      <td>54523</td>\n",
       "      <td>16.053800</td>\n",
       "      <td>155.160436</td>\n",
       "      <td>78402.942465</td>\n",
       "    </tr>\n",
       "    <tr>\n",
       "      <td>99</td>\n",
       "      <td>4</td>\n",
       "      <td>82.348857</td>\n",
       "      <td>49897</td>\n",
       "      <td>16.187514</td>\n",
       "      <td>208.079034</td>\n",
       "      <td>53771.607227</td>\n",
       "    </tr>\n",
       "  </tbody>\n",
       "</table>\n",
       "<p>100 rows × 6 columns</p>\n",
       "</div>"
      ],
      "text/plain": [
       "    Country  Expectancy    IPC  Goverment  Professionals    Population\n",
       "0         1   82.219665  45318  18.408277     184.950342  22344.951015\n",
       "1         1   82.782122  74586  18.443482     156.677494   9303.240272\n",
       "2         1   82.397090  59096  17.256896     151.620953  32962.840945\n",
       "3         1   82.297852  58441  18.160287     214.715206  40833.361618\n",
       "4         1   82.915972  63205  16.462240     195.533161  62606.849863\n",
       "..      ...         ...    ...        ...            ...           ...\n",
       "95        4   82.404276  67884  17.122048     162.246167  44328.908738\n",
       "96        4   82.415263  68182  17.283946     177.193010  44915.512550\n",
       "97        4   82.730159  51573  15.701651     211.089852  38729.507935\n",
       "98        4   82.190305  54523  16.053800     155.160436  78402.942465\n",
       "99        4   82.348857  49897  16.187514     208.079034  53771.607227\n",
       "\n",
       "[100 rows x 6 columns]"
      ]
     },
     "execution_count": 18,
     "metadata": {},
     "output_type": "execute_result"
    }
   ],
   "source": [
    "# And you can see the dataset below\n",
    "df"
   ]
  },
  {
   "cell_type": "markdown",
   "metadata": {},
   "source": [
    "## Evaluating the dataset \n",
    "_______________________________________________________________________________________________________________________________"
   ]
  },
  {
   "cell_type": "code",
   "execution_count": null,
   "metadata": {},
   "outputs": [],
   "source": []
  },
  {
   "cell_type": "code",
   "execution_count": null,
   "metadata": {},
   "outputs": [],
   "source": []
  },
  {
   "cell_type": "code",
   "execution_count": null,
   "metadata": {},
   "outputs": [],
   "source": []
  },
  {
   "cell_type": "code",
   "execution_count": null,
   "metadata": {},
   "outputs": [],
   "source": []
  },
  {
   "cell_type": "code",
   "execution_count": null,
   "metadata": {},
   "outputs": [],
   "source": []
  },
  {
   "cell_type": "code",
   "execution_count": null,
   "metadata": {},
   "outputs": [],
   "source": []
  },
  {
   "cell_type": "code",
   "execution_count": null,
   "metadata": {},
   "outputs": [],
   "source": []
  },
  {
   "cell_type": "code",
   "execution_count": null,
   "metadata": {},
   "outputs": [],
   "source": []
  },
  {
   "cell_type": "markdown",
   "metadata": {},
   "source": [
    "## References\n",
    "- https://ec.europa.eu/eurostat/databrowser/view/sdg_03_10/default/bar?lang=en\n",
    "- https://www.kaggle.com/kumarajarshi/life-expectancy-who\n",
    "- https://www.statista.com/statistics/270861/life-expectancy-by-continent/\n",
    "- https://www.researchgate.net/figure/Life-expectancy-and-income-in-1941-focusing-on-Russia-Ukraine-and-Belarus2_fig7_317236927\n",
    "- https://rpubs.com/arjan/27543\n",
    "- https://chrisalbon.com/python/basics/generating_random_numbers_with_numpy/\n",
    "- https://www.kaggle.com/kumarajarshi/life-expectancy-who\n",
    "- https://pbpython.com/categorical-encoding.html\n",
    "- https://www.prb.org/international/indicator/gross-national-income/snapshot\n",
    "https://www.prb.org/international/geography/europe"
   ]
  },
  {
   "cell_type": "code",
   "execution_count": null,
   "metadata": {},
   "outputs": [],
   "source": []
  },
  {
   "cell_type": "code",
   "execution_count": null,
   "metadata": {},
   "outputs": [],
   "source": []
  },
  {
   "cell_type": "code",
   "execution_count": null,
   "metadata": {},
   "outputs": [],
   "source": []
  }
 ],
 "metadata": {
  "kernelspec": {
   "display_name": "Python 3",
   "language": "python",
   "name": "python3"
  },
  "language_info": {
   "codemirror_mode": {
    "name": "ipython",
    "version": 3
   },
   "file_extension": ".py",
   "mimetype": "text/x-python",
   "name": "python",
   "nbconvert_exporter": "python",
   "pygments_lexer": "ipython3",
   "version": "3.7.4"
  }
 },
 "nbformat": 4,
 "nbformat_minor": 2
}
