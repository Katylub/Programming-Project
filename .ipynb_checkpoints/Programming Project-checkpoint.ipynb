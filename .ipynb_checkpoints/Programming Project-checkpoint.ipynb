{
 "cells": [
  {
   "cell_type": "markdown",
   "metadata": {},
   "source": [
    "# Project Introduction\n",
    "_______________________________________________________________________________________________________________________________"
   ]
  },
  {
   "cell_type": "markdown",
   "metadata": {},
   "source": [
    "This project concerns the simulation and creation of a real-world phenomenom dataset and compare the variables on it, using python packages as Numpy.In the project will be covered the academical requested points below:\n",
    "\n",
    "- Choose a real-world phenomenon that can be measured and for which you could collect at least one-hundred data points across at least four diﬀerent variables.\n",
    "- Investigate the types of variables involved, their likely distributions, and their relationships with each other.\n",
    "- Synthesise/simulate a data set as closely matching their properties as possible.\n",
    "- Detail your research and implement the simulation in a Jupyter notebook – the data set itself can simply be displayed in an output cell within the notebook.\n"
   ]
  },
  {
   "cell_type": "markdown",
   "metadata": {},
   "source": [
    "# Project Idea"
   ]
  },
  {
   "cell_type": "markdown",
   "metadata": {},
   "source": [
    "After several research and looking for ideas, I will pick up the real-world phenomenom of the life expectancy. \n",
    "\n",
    "I have noticed in my research that there are lots of studies on this matter and the factors to consider the variables can be wide, including social, economics, technological, demographic, quality of health, medical care, diet, among others. For this reason I will focus this project in the life expectancy, taking in consideration 4 countries, gender, population and years of research. \n",
    "\n",
    "Note all the data have been generated, the variables and the information was randomly choosed for practical purpose. "
   ]
  },
  {
   "cell_type": "code",
   "execution_count": null,
   "metadata": {},
   "outputs": [],
   "source": []
  },
  {
   "cell_type": "markdown",
   "metadata": {},
   "source": [
    "Life expectancy female and males, years,  population, continent "
   ]
  },
  {
   "cell_type": "code",
   "execution_count": null,
   "metadata": {},
   "outputs": [],
   "source": []
  },
  {
   "cell_type": "markdown",
   "metadata": {},
   "source": [
    "Creation of Variables: The first variable we will create is Country, in this project we will take 4 countries with 25 atributes each. To work easier I have added added a number to each country.\n",
    "\n",
    "1. Spain\n",
    "2. Ireland \n",
    "3. Italy\n",
    "4. Norway"
   ]
  },
  {
   "cell_type": "code",
   "execution_count": 1,
   "metadata": {},
   "outputs": [],
   "source": [
    "import numpy as np"
   ]
  },
  {
   "cell_type": "code",
   "execution_count": null,
   "metadata": {},
   "outputs": [],
   "source": []
  },
  {
   "cell_type": "markdown",
   "metadata": {},
   "source": [
    "Life Expectancy Females"
   ]
  },
  {
   "cell_type": "code",
   "execution_count": 2,
   "metadata": {},
   "outputs": [
    {
     "data": {
      "text/plain": [
       "array([83, 81, 81, 81, 83, 83, 82, 81, 82, 83, 82, 80, 83, 80, 80, 80, 81,\n",
       "       80, 80, 83, 83, 82, 82, 82, 82, 80, 82, 80, 83, 82, 81, 83, 82, 83,\n",
       "       80, 80, 82, 82, 80, 82, 81, 81, 81, 83, 81, 83, 80, 81, 81, 82, 81,\n",
       "       81, 81, 83, 80, 82, 83, 80, 82, 80, 83, 82, 80, 83, 83, 82, 80, 81,\n",
       "       82, 80, 81, 80, 83, 81, 82, 81, 82, 83, 80, 80, 80, 82, 81, 81, 80,\n",
       "       82, 81, 80, 82, 81, 82, 83, 81, 83, 82, 83, 82, 83, 81, 83])"
      ]
     },
     "execution_count": 2,
     "metadata": {},
     "output_type": "execute_result"
    }
   ],
   "source": [
    "np.random.randint(low=80, high=84, size=100)"
   ]
  },
  {
   "cell_type": "markdown",
   "metadata": {},
   "source": [
    "Life Expectancy Males"
   ]
  },
  {
   "cell_type": "code",
   "execution_count": 4,
   "metadata": {},
   "outputs": [
    {
     "data": {
      "text/plain": [
       "array([75, 75, 73, 75, 75, 73, 76, 76, 74, 76, 76, 76, 76, 73, 76, 76, 73,\n",
       "       73, 75, 75, 73, 75, 76, 73, 75, 73, 73, 73, 75, 73, 73, 73, 76, 76,\n",
       "       76, 76, 76, 74, 76, 74, 74, 74, 73, 73, 75, 74, 74, 74, 74, 74, 76,\n",
       "       75, 73, 74, 76, 75, 73, 75, 76, 74, 74, 76, 75, 74, 76, 74, 75, 75,\n",
       "       74, 74, 75, 75, 76, 75, 74, 73, 75, 74, 76, 74, 73, 75, 73, 74, 75,\n",
       "       76, 76, 74, 76, 75, 76, 76, 75, 76, 75, 73, 73, 75, 74, 76])"
      ]
     },
     "execution_count": 4,
     "metadata": {},
     "output_type": "execute_result"
    }
   ],
   "source": [
    "np.random.randint(low=73, high=77, size=100)"
   ]
  },
  {
   "cell_type": "markdown",
   "metadata": {},
   "source": [
    "## References\n",
    "- https://ec.europa.eu/eurostat/databrowser/view/sdg_03_10/default/bar?lang=en\n",
    "- https://www.kaggle.com/kumarajarshi/life-expectancy-who\n",
    "- https://www.statista.com/statistics/270861/life-expectancy-by-continent/\n",
    "- https://www.researchgate.net/figure/Life-expectancy-and-income-in-1941-focusing-on-Russia-Ukraine-and-Belarus2_fig7_317236927\n",
    "- https://rpubs.com/arjan/27543\n",
    "- chrisalbon.com/python/basics/generating_random_numbers_with_numpy/\n"
   ]
  },
  {
   "cell_type": "code",
   "execution_count": null,
   "metadata": {},
   "outputs": [],
   "source": []
  }
 ],
 "metadata": {
  "kernelspec": {
   "display_name": "Python 3",
   "language": "python",
   "name": "python3"
  },
  "language_info": {
   "codemirror_mode": {
    "name": "ipython",
    "version": 3
   },
   "file_extension": ".py",
   "mimetype": "text/x-python",
   "name": "python",
   "nbconvert_exporter": "python",
   "pygments_lexer": "ipython3",
   "version": "3.7.4"
  }
 },
 "nbformat": 4,
 "nbformat_minor": 2
}
