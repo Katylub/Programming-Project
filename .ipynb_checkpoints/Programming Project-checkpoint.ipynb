{
 "cells": [
  {
   "cell_type": "markdown",
   "metadata": {},
   "source": [
    "# Project Introduction\n",
    "_______________________________________________________________________________________________________________________________"
   ]
  },
  {
   "cell_type": "markdown",
   "metadata": {},
   "source": [
    "This project concerns the simulation and creation of a real-world phenomenom dataset and compare the variables on it, using python packages as Numpy. In the project will be covered the academical requested points below:\n",
    "\n",
    "- Choose a real-world phenomenon that can be measured and for which you could collect at least one-hundred data points across at least four diﬀerent variables.\n",
    "- Investigate the types of variables involved, their likely distributions, and their relationships with each other.\n",
    "- Synthesise/simulate a data set as closely matching their properties as possible.\n",
    "- Detail your research and implement the simulation in a Jupyter notebook – the data set itself can simply be displayed in an output cell within the notebook.\n"
   ]
  },
  {
   "cell_type": "markdown",
   "metadata": {},
   "source": [
    "# Project Idea"
   ]
  },
  {
   "cell_type": "markdown",
   "metadata": {},
   "source": [
    "For this project and after research, I will pick the real-world phenomenom of life expectancy. \n",
    "\n",
    "Life expectancy is defined as the mean number of years that a new-born child can expect to live if subjected throughout his life to the current mortality conditions (age specific probabilities of dying).\n",
    "\n",
    "I have noticed that there are lots of studies on this matter considering demographic variables, income and mortality rates. There are multiple factors that affect directly on the life expectancy and I have found this matter interesting and the best option for this project. \n",
    "\n",
    "As mentioned the main variable to study will be the life expectancy (media) and will be taken as the first and most interesting variable for this Project purpose. I will evaluate 4 countries as demographic sample and will assign a number to each country from 1 to 4, so this will be the second variable. \n",
    "\n",
    "The following variable will give more information about the relation between life and income and will be evalauated the economy per capita.\n",
    "\n",
    "The other two variables measure the health force impact in life expectancy and the variables I took in consideration where the goverment expenditure and a the density of health professionals have in each contry for this matter.\n",
    "\n",
    "The countries that I choose have in general similar expectancy mean, and by coincidence I realised the other variables were similar as well, therefore I choose to add uniform random data.\n",
    "\n",
    "Each variable will be explained with more details below.\n"
   ]
  },
  {
   "cell_type": "markdown",
   "metadata": {},
   "source": [
    "# Create Dataset\n",
    "_______________________________________________________________________________________________________________________________"
   ]
  },
  {
   "cell_type": "markdown",
   "metadata": {},
   "source": [
    "**Country:** We will evaluate 4 countries and they will be represented as integer, I will assign a number to each of them. Each country will have 25 rows and is represented as below:\n",
    "1. France\n",
    "2. Iceland\n",
    "3. Norway\n",
    "4. Sweden"
   ]
  },
  {
   "cell_type": "code",
   "execution_count": 6,
   "metadata": {},
   "outputs": [],
   "source": [
    "# First we import Numpy which will be used to create all the random variables\n",
    "import numpy as np\n",
    "\n",
    "# Creation of array with 4 number of the list\n",
    "c1=np.array([1,2,3,4])\n",
    "\n",
    "#Assign 25 rows to each number\n",
    "c2=np.repeat(c1, 25)"
   ]
  },
  {
   "cell_type": "markdown",
   "metadata": {},
   "source": [
    "**Life Expectancy:** This data will be represented as a floating number and the parameters are as close as possible to real data. The data was randomly choose using uniform distribution, as the media life expectancy for these countries is similar. This is the reference [web page](https://ec.europa.eu/eurostat/databrowser/view/sdg_03_10/default/bar?lang=en).  "
   ]
  },
  {
   "cell_type": "code",
   "execution_count": 7,
   "metadata": {},
   "outputs": [],
   "source": [
    "# We assign uniform number similar to the real media register for Females life expectancy\n",
    "le= np.random.uniform(82,83,100)"
   ]
  },
  {
   "cell_type": "markdown",
   "metadata": {},
   "source": [
    "**Gross National Income Per Capita:** This data is represented as a integer number and the parameters are adjusted from real data references and you can see this information in the web page used [here](https://www.prb.org/international/indicator/gross-national-income/snapshot). The data was randomly choose using uniform distribution, as the media income for these countries is between these parameters and not far from each other. "
   ]
  },
  {
   "cell_type": "code",
   "execution_count": 8,
   "metadata": {},
   "outputs": [],
   "source": [
    "ipc= np.random.randint(low=45000, high=76000, size=100)"
   ]
  },
  {
   "cell_type": "markdown",
   "metadata": {},
   "source": [
    "**% Goverment Health Expenditure:** General government expenditure on health as a percentage of total government expenditure. This data is represented as a integer number and the parameters are adjusted from real data references and you can see this information in the web page used [here](http://apps.who.int/gho/portal/uhc-hss-cabinet-wrapper-v2.jsp?id=1030202). The data was randomly choose using uniform distribution, as the media goverment expenditure for these countries is between these parameters and not far from each other. "
   ]
  },
  {
   "cell_type": "code",
   "execution_count": 9,
   "metadata": {},
   "outputs": [],
   "source": [
    "ghe = np.random.uniform(15.69,19.03,100)"
   ]
  },
  {
   "cell_type": "markdown",
   "metadata": {},
   "source": [
    "**Health professionals density:** Health professionals density per 10 000 population. This data is represented as a integer number and the parameters are adjusted from real data references and you can see this information in the web page used [here](http://apps.who.int/gho/portal/uhc-hss-cabinet-wrapper-v2.jsp?id=1030301). The data was randomly choose using uniform distribution, as the media professional density for these countries is between these parameters and not far from each other. "
   ]
  },
  {
   "cell_type": "code",
   "execution_count": 10,
   "metadata": {},
   "outputs": [],
   "source": [
    "hpd = np.random.uniform (138,221.1,100)"
   ]
  },
  {
   "cell_type": "markdown",
   "metadata": {},
   "source": [
    "**Dataframe**: Now that we have created the variables we can put all the variables together for our dataset."
   ]
  },
  {
   "cell_type": "code",
   "execution_count": 11,
   "metadata": {},
   "outputs": [],
   "source": [
    "# Import Pandas package to create the dataframe\n",
    "import pandas as pd"
   ]
  },
  {
   "cell_type": "code",
   "execution_count": 12,
   "metadata": {},
   "outputs": [],
   "source": [
    "#First we created the function\n",
    "df= pd.DataFrame()\n",
    "\n",
    "#Assign the variables\n",
    "Country = c2\n",
    "Expectancy = le\n",
    "IPC = ipc\n",
    "Goverment = ghe\n",
    "Professionals = hpd\n",
    "\n",
    "#Add to the function\n",
    "df['Country'] = c2\n",
    "df['Expectancy'] = le\n",
    "df['IPC'] = ipc\n",
    "df['Goverment'] = ghe\n",
    "df['Professionals'] = hpd"
   ]
  },
  {
   "cell_type": "code",
   "execution_count": 13,
   "metadata": {},
   "outputs": [
    {
     "data": {
      "text/html": [
       "<div>\n",
       "<style scoped>\n",
       "    .dataframe tbody tr th:only-of-type {\n",
       "        vertical-align: middle;\n",
       "    }\n",
       "\n",
       "    .dataframe tbody tr th {\n",
       "        vertical-align: top;\n",
       "    }\n",
       "\n",
       "    .dataframe thead th {\n",
       "        text-align: right;\n",
       "    }\n",
       "</style>\n",
       "<table border=\"1\" class=\"dataframe\">\n",
       "  <thead>\n",
       "    <tr style=\"text-align: right;\">\n",
       "      <th></th>\n",
       "      <th>Country</th>\n",
       "      <th>Expectancy</th>\n",
       "      <th>IPC</th>\n",
       "      <th>Goverment</th>\n",
       "      <th>Professionals</th>\n",
       "    </tr>\n",
       "  </thead>\n",
       "  <tbody>\n",
       "    <tr>\n",
       "      <td>0</td>\n",
       "      <td>1</td>\n",
       "      <td>82.652774</td>\n",
       "      <td>52263</td>\n",
       "      <td>18.806381</td>\n",
       "      <td>202.811591</td>\n",
       "    </tr>\n",
       "    <tr>\n",
       "      <td>1</td>\n",
       "      <td>1</td>\n",
       "      <td>82.121748</td>\n",
       "      <td>56515</td>\n",
       "      <td>16.108505</td>\n",
       "      <td>207.310645</td>\n",
       "    </tr>\n",
       "    <tr>\n",
       "      <td>2</td>\n",
       "      <td>1</td>\n",
       "      <td>82.537591</td>\n",
       "      <td>59075</td>\n",
       "      <td>15.798705</td>\n",
       "      <td>218.262358</td>\n",
       "    </tr>\n",
       "    <tr>\n",
       "      <td>3</td>\n",
       "      <td>1</td>\n",
       "      <td>82.239730</td>\n",
       "      <td>68300</td>\n",
       "      <td>18.072868</td>\n",
       "      <td>217.651919</td>\n",
       "    </tr>\n",
       "    <tr>\n",
       "      <td>4</td>\n",
       "      <td>1</td>\n",
       "      <td>82.355651</td>\n",
       "      <td>59304</td>\n",
       "      <td>17.523405</td>\n",
       "      <td>142.892726</td>\n",
       "    </tr>\n",
       "    <tr>\n",
       "      <td>...</td>\n",
       "      <td>...</td>\n",
       "      <td>...</td>\n",
       "      <td>...</td>\n",
       "      <td>...</td>\n",
       "      <td>...</td>\n",
       "    </tr>\n",
       "    <tr>\n",
       "      <td>95</td>\n",
       "      <td>4</td>\n",
       "      <td>82.835786</td>\n",
       "      <td>46489</td>\n",
       "      <td>16.808123</td>\n",
       "      <td>149.097522</td>\n",
       "    </tr>\n",
       "    <tr>\n",
       "      <td>96</td>\n",
       "      <td>4</td>\n",
       "      <td>82.191129</td>\n",
       "      <td>57675</td>\n",
       "      <td>17.392125</td>\n",
       "      <td>218.123984</td>\n",
       "    </tr>\n",
       "    <tr>\n",
       "      <td>97</td>\n",
       "      <td>4</td>\n",
       "      <td>82.995733</td>\n",
       "      <td>54188</td>\n",
       "      <td>18.541251</td>\n",
       "      <td>149.134696</td>\n",
       "    </tr>\n",
       "    <tr>\n",
       "      <td>98</td>\n",
       "      <td>4</td>\n",
       "      <td>82.277148</td>\n",
       "      <td>59784</td>\n",
       "      <td>16.623929</td>\n",
       "      <td>194.360077</td>\n",
       "    </tr>\n",
       "    <tr>\n",
       "      <td>99</td>\n",
       "      <td>4</td>\n",
       "      <td>82.602537</td>\n",
       "      <td>66280</td>\n",
       "      <td>17.757618</td>\n",
       "      <td>167.131633</td>\n",
       "    </tr>\n",
       "  </tbody>\n",
       "</table>\n",
       "<p>100 rows × 5 columns</p>\n",
       "</div>"
      ],
      "text/plain": [
       "    Country  Expectancy    IPC  Goverment  Professionals\n",
       "0         1   82.652774  52263  18.806381     202.811591\n",
       "1         1   82.121748  56515  16.108505     207.310645\n",
       "2         1   82.537591  59075  15.798705     218.262358\n",
       "3         1   82.239730  68300  18.072868     217.651919\n",
       "4         1   82.355651  59304  17.523405     142.892726\n",
       "..      ...         ...    ...        ...            ...\n",
       "95        4   82.835786  46489  16.808123     149.097522\n",
       "96        4   82.191129  57675  17.392125     218.123984\n",
       "97        4   82.995733  54188  18.541251     149.134696\n",
       "98        4   82.277148  59784  16.623929     194.360077\n",
       "99        4   82.602537  66280  17.757618     167.131633\n",
       "\n",
       "[100 rows x 5 columns]"
      ]
     },
     "execution_count": 13,
     "metadata": {},
     "output_type": "execute_result"
    }
   ],
   "source": [
    "# And you can see the dataset below\n",
    "df"
   ]
  },
  {
   "cell_type": "markdown",
   "metadata": {},
   "source": [
    "## Evaluating the dataset \n",
    "_______________________________________________________________________________________________________________________________"
   ]
  },
  {
   "cell_type": "code",
   "execution_count": null,
   "metadata": {},
   "outputs": [],
   "source": []
  },
  {
   "cell_type": "code",
   "execution_count": null,
   "metadata": {},
   "outputs": [],
   "source": []
  },
  {
   "cell_type": "code",
   "execution_count": null,
   "metadata": {},
   "outputs": [],
   "source": []
  },
  {
   "cell_type": "code",
   "execution_count": null,
   "metadata": {},
   "outputs": [],
   "source": []
  },
  {
   "cell_type": "code",
   "execution_count": null,
   "metadata": {},
   "outputs": [],
   "source": []
  },
  {
   "cell_type": "code",
   "execution_count": null,
   "metadata": {},
   "outputs": [],
   "source": []
  },
  {
   "cell_type": "code",
   "execution_count": null,
   "metadata": {},
   "outputs": [],
   "source": []
  },
  {
   "cell_type": "code",
   "execution_count": null,
   "metadata": {},
   "outputs": [],
   "source": []
  },
  {
   "cell_type": "markdown",
   "metadata": {},
   "source": [
    "## References\n",
    "- https://ec.europa.eu/eurostat/databrowser/view/sdg_03_10/default/bar?lang=en\n",
    "- https://www.kaggle.com/kumarajarshi/life-expectancy-who\n",
    "- https://www.statista.com/statistics/270861/life-expectancy-by-continent/\n",
    "- https://www.researchgate.net/figure/Life-expectancy-and-income-in-1941-focusing-on-Russia-Ukraine-and-Belarus2_fig7_317236927\n",
    "- https://rpubs.com/arjan/27543\n",
    "- https://chrisalbon.com/python/basics/generating_random_numbers_with_numpy/\n",
    "- https://www.kaggle.com/kumarajarshi/life-expectancy-who\n",
    "- https://pbpython.com/categorical-encoding.html\n",
    "- https://www.prb.org/international/indicator/gross-national-income/snapshot\n",
    "https://www.prb.org/international/geography/europe"
   ]
  },
  {
   "cell_type": "code",
   "execution_count": null,
   "metadata": {},
   "outputs": [],
   "source": []
  },
  {
   "cell_type": "code",
   "execution_count": null,
   "metadata": {},
   "outputs": [],
   "source": []
  },
  {
   "cell_type": "code",
   "execution_count": null,
   "metadata": {},
   "outputs": [],
   "source": []
  }
 ],
 "metadata": {
  "kernelspec": {
   "display_name": "Python 3",
   "language": "python",
   "name": "python3"
  },
  "language_info": {
   "codemirror_mode": {
    "name": "ipython",
    "version": 3
   },
   "file_extension": ".py",
   "mimetype": "text/x-python",
   "name": "python",
   "nbconvert_exporter": "python",
   "pygments_lexer": "ipython3",
   "version": "3.7.4"
  }
 },
 "nbformat": 4,
 "nbformat_minor": 2
}
