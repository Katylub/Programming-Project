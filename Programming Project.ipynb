{
 "cells": [
  {
   "cell_type": "markdown",
   "metadata": {},
   "source": [
    "# Project Introduction\n",
    "_______________________________________________________________________________________________________________________________"
   ]
  },
  {
   "cell_type": "markdown",
   "metadata": {},
   "source": [
    "This project concerns the simulation and creation of a real-world phenomenom dataset and compare the variables on it, using python packages as Numpy. In the project will be covered the academical requested points below:\n",
    "\n",
    "- Choose a real-world phenomenon that can be measured and for which you could collect at least one-hundred data points across at least four diﬀerent variables.\n",
    "- Investigate the types of variables involved, their likely distributions, and their relationships with each other.\n",
    "- Synthesise/simulate a data set as closely matching their properties as possible.\n",
    "- Detail your research and implement the simulation in a Jupyter notebook – the data set itself can simply be displayed in an output cell within the notebook.\n"
   ]
  },
  {
   "cell_type": "markdown",
   "metadata": {},
   "source": [
    "# Project Idea"
   ]
  },
  {
   "cell_type": "markdown",
   "metadata": {},
   "source": [
    "For this project and after research, I will pick the real-world phenomenom of life expectancy. \n",
    "\n",
    "Life expectancy is defined as the mean number of years that a new-born child can expect to live if subjected throughout his life to the current mortality conditions (age specific probabilities of dying).\n",
    "\n",
    "I have noticed that there are lots of studies on this matter considering demographic variables, income and mortality rates. There are multiple factors that affect directly on the life expectancy and I have found this matter interesting.\n",
    "\n",
    "As mentioned the main variable to study will be the life expectancy (years) and will be taken as the first and most interesting variable for this Project purpose. As demograpy is one of the main factor that affect this variable, the dataset will be created taking in consideration 4 countries from Europe which are France, Iceland, Norway and Sweden. Per research these countries have a expectancy above 80 years, ones of the highest from Europe. I will evaluate the factors that sorrounds this data to see if there are other similarities as well. \n",
    "\n",
    "As demography is important, each country will count with 25 samples of populations from different cities. As the cities can have different sizes, this will be the only variable that will have a triangular distribution in this project, as you will see below. \n",
    "\n",
    "\n",
    "During research I have found that there is large inequalities in life expectancy by socioeconomical status, no matter how it is measured – by education level, income or occupational group. So I decided to take as the next variable the income per capita (Euros) in these countries.\n",
    "\n",
    "The other two variables are not always taken in consideration in all the rsearch but impact \n",
    "\n",
    "measure the health force impact in life expectancy and the variables I took in consideration where the goverment expenditure (percentage) and a the density of health professionals in each contry.\n",
    "\n",
    "The countries that I choose have similar expectancy mean, and by coincidence I realised the other variables were similar as well, therefore I choose to add uniform random data in most of the variable except for population as the reference is for different sizes of town. \n",
    "\n",
    "Each variable will be explained with more details below in different order.\n"
   ]
  },
  {
   "cell_type": "markdown",
   "metadata": {},
   "source": [
    "# Create Dataset\n",
    "_______________________________________________________________________________________________________________________________"
   ]
  },
  {
   "cell_type": "markdown",
   "metadata": {},
   "source": [
    "**Country:** We will evaluate 4 countries with similar life expectancy. Each country will have 25 samples that represent cities from the country."
   ]
  },
  {
   "cell_type": "code",
   "execution_count": 2,
   "metadata": {},
   "outputs": [],
   "source": [
    "# First import all the libraries we will use in the project \n",
    "import numpy as np\n",
    "import pandas as pd\n",
    "import matplotlib.pyplot as plt\n",
    "import seaborn as sns\n",
    "%matplotlib inline\n",
    "\n",
    "# Creation of array with the 4 countries choosed\n",
    "c1=np.array(['France','Iceland','Norway','Sweden'])\n",
    "\n",
    "#Assign 25 rows to each country\n",
    "c2=np.repeat(c1, 25)"
   ]
  },
  {
   "cell_type": "markdown",
   "metadata": {},
   "source": [
    "**Life Expectancy:** This data will be represented as a floating number and the parameters are as close as possible to real data. The data was randomly choose using uniform distribution (See plot below), as the media life expectancy for these countries is similar. This is the reference [web page](https://ec.europa.eu/eurostat/databrowser/view/sdg_03_10/default/bar?lang=en).  "
   ]
  },
  {
   "cell_type": "code",
   "execution_count": 3,
   "metadata": {},
   "outputs": [
    {
     "data": {
      "image/png": "[encoded data removed]",
      "text/plain": [
       "<Figure size 432x288 with 1 Axes>"
      ]
     },
     "metadata": {
      "needs_background": "light"
     },
     "output_type": "display_data"
    }
   ],
   "source": [
    "# Assign uniform number similar to the real media register for life expectancy\n",
    "le= np.random.uniform(82.4,83,100)\n",
    "\n",
    "# Import Matplotlib which will be used to create the plots and see variables distribution\n",
    "import matplotlib.pyplot as plt\n",
    "\n",
    "#Plot of Life Expectancy Variable\n",
    "lep = plt.hist(le, bins=10, density=True)"
   ]
  },
  {
   "cell_type": "markdown",
   "metadata": {},
   "source": [
    "**Gross National Income Per Capita:** This data is represented as a integer number and the parameters are adjusted from real data references and you can see this information in the web page used [here](https://www.prb.org/international/indicator/gross-national-income/snapshot). The data was randomly choose using uniform distribution, as the media income for these countries is between these parameters and not far from each other. "
   ]
  },
  {
   "cell_type": "code",
   "execution_count": 4,
   "metadata": {},
   "outputs": [
    {
     "data": {
      "image/png": "[encoded data removed]",
      "text/plain": [
       "<Figure size 432x288 with 1 Axes>"
      ]
     },
     "metadata": {
      "needs_background": "light"
     },
     "output_type": "display_data"
    }
   ],
   "source": [
    "# Assign uniform number similar to the real media register for Income Per Capita\n",
    "ipc= np.random.randint(low=45000, high=76000, size=100)\n",
    "\n",
    "#Plot of Fross Income Per Capita\n",
    "ipcp = plt.hist(ipc, bins=10, density=True)"
   ]
  },
  {
   "cell_type": "markdown",
   "metadata": {},
   "source": [
    "**% Goverment Health Expenditure:** General government expenditure on health as a percentage of total government expenditure. This data is represented as a integer number and the parameters are adjusted from real data references and you can see this information in the web page used [here](http://apps.who.int/gho/portal/uhc-hss-cabinet-wrapper-v2.jsp?id=1030202). The data was randomly choose using uniform distribution, as the media goverment expenditure for these countries is between these parameters and not far from each other. "
   ]
  },
  {
   "cell_type": "code",
   "execution_count": 5,
   "metadata": {},
   "outputs": [
    {
     "data": {
      "image/png": "[encoded data removed]",
      "text/plain": [
       "<Figure size 432x288 with 1 Axes>"
      ]
     },
     "metadata": {
      "needs_background": "light"
     },
     "output_type": "display_data"
    }
   ],
   "source": [
    "# Assign uniform number similar to the real media register for Goverment Health Expenditure\n",
    "ghe = np.random.uniform(15.69,19.03,100)\n",
    "\n",
    "#Plot of Goverment Health Expenditure \n",
    "ghep = plt.hist(ghe, bins=10, density=True)"
   ]
  },
  {
   "cell_type": "markdown",
   "metadata": {},
   "source": [
    "**Health professionals density:** Health professionals density per 10 000 population. This data is represented as a integer number and the parameters are adjusted from real data references and you can see this information in the web page used [here](http://apps.who.int/gho/portal/uhc-hss-cabinet-wrapper-v2.jsp?id=1030301). The data was randomly choose using uniform distribution, as the media professional density for these countries is between these parameters and not far from each other. "
   ]
  },
  {
   "cell_type": "code",
   "execution_count": 6,
   "metadata": {},
   "outputs": [
    {
     "data": {
      "image/png": "[encoded data removed]",
      "text/plain": [
       "<Figure size 432x288 with 1 Axes>"
      ]
     },
     "metadata": {
      "needs_background": "light"
     },
     "output_type": "display_data"
    }
   ],
   "source": [
    "# Assign uniform number similar to the real media register for Health Professional Density\n",
    "hpd = np.random.uniform (138,221.1,100)\n",
    "\n",
    "#Plot of Health Professionals Density\n",
    "ghep = plt.hist(ghe, bins=10, density=True)"
   ]
  },
  {
   "cell_type": "markdown",
   "metadata": {},
   "source": [
    "**Population per cities of the country:** This variable will represent the population on each city/sate of the cities evaluated for the research. For this variable, I will take triangular distribution to represent different population sizes and the number is between 0 and 100.000 with a peak of 50.000. These numbers are in line with the other variables choosen. In general the dataset will contain 25 samples for each city."
   ]
  },
  {
   "cell_type": "code",
   "execution_count": 7,
   "metadata": {},
   "outputs": [
    {
     "data": {
      "image/png": "[encoded data removed]",
      "text/plain": [
       "<Figure size 432x288 with 1 Axes>"
      ]
     },
     "metadata": {
      "needs_background": "light"
     },
     "output_type": "display_data"
    }
   ],
   "source": [
    "# Assign triangular number for population between o and 100.000 with a peak of 50.000\n",
    "pp = np.random.triangular(0, 50000, 100000, 100)\n",
    "\n",
    "#Plot of Population cities\n",
    "ppp = plt.hist(pp, bins=10, density=True)"
   ]
  },
  {
   "cell_type": "markdown",
   "metadata": {},
   "source": [
    "## Dataset: \n",
    "Now that we have created the variables we can put all the variables together for our dataset."
   ]
  },
  {
   "cell_type": "code",
   "execution_count": 8,
   "metadata": {},
   "outputs": [],
   "source": [
    "# Import Pandas package to create the dataframe\n",
    "import pandas as pd"
   ]
  },
  {
   "cell_type": "code",
   "execution_count": 9,
   "metadata": {},
   "outputs": [],
   "source": [
    "#First we created the function\n",
    "df= pd.DataFrame()\n",
    "\n",
    "#Assign the variables name \n",
    "Country = c2\n",
    "Expectancy = le\n",
    "IPC = ipc\n",
    "Goverment = ghe\n",
    "Professionals = hpd\n",
    "Population = pp\n",
    "\n",
    "#Add to the Dataframe the variables\n",
    "df['Country'] = c2\n",
    "df['Expectancy'] = le\n",
    "df['IPC'] = ipc\n",
    "df['Goverment'] = ghe\n",
    "df['Professionals'] = hpd\n",
    "df['Population'] = pp"
   ]
  },
  {
   "cell_type": "code",
   "execution_count": 10,
   "metadata": {},
   "outputs": [
    {
     "data": {
      "text/html": [
       "<div>\n",
       "<style scoped>\n",
       "    .dataframe tbody tr th:only-of-type {\n",
       "        vertical-align: middle;\n",
       "    }\n",
       "\n",
       "    .dataframe tbody tr th {\n",
       "        vertical-align: top;\n",
       "    }\n",
       "\n",
       "    .dataframe thead th {\n",
       "        text-align: right;\n",
       "    }\n",
       "</style>\n",
       "<table border=\"1\" class=\"dataframe\">\n",
       "  <thead>\n",
       "    <tr style=\"text-align: right;\">\n",
       "      <th></th>\n",
       "      <th>Country</th>\n",
       "      <th>Expectancy</th>\n",
       "      <th>IPC</th>\n",
       "      <th>Goverment</th>\n",
       "      <th>Professionals</th>\n",
       "      <th>Population</th>\n",
       "    </tr>\n",
       "  </thead>\n",
       "  <tbody>\n",
       "    <tr>\n",
       "      <td>0</td>\n",
       "      <td>France</td>\n",
       "      <td>82.702035</td>\n",
       "      <td>67751</td>\n",
       "      <td>18.861550</td>\n",
       "      <td>154.712100</td>\n",
       "      <td>58093.470543</td>\n",
       "    </tr>\n",
       "    <tr>\n",
       "      <td>1</td>\n",
       "      <td>France</td>\n",
       "      <td>82.893530</td>\n",
       "      <td>57696</td>\n",
       "      <td>18.942652</td>\n",
       "      <td>158.653934</td>\n",
       "      <td>71096.040148</td>\n",
       "    </tr>\n",
       "    <tr>\n",
       "      <td>2</td>\n",
       "      <td>France</td>\n",
       "      <td>82.953093</td>\n",
       "      <td>75514</td>\n",
       "      <td>17.716578</td>\n",
       "      <td>140.983774</td>\n",
       "      <td>41095.368155</td>\n",
       "    </tr>\n",
       "    <tr>\n",
       "      <td>3</td>\n",
       "      <td>France</td>\n",
       "      <td>82.876373</td>\n",
       "      <td>62142</td>\n",
       "      <td>17.826330</td>\n",
       "      <td>145.866136</td>\n",
       "      <td>81803.252338</td>\n",
       "    </tr>\n",
       "    <tr>\n",
       "      <td>4</td>\n",
       "      <td>France</td>\n",
       "      <td>82.412253</td>\n",
       "      <td>65713</td>\n",
       "      <td>15.873033</td>\n",
       "      <td>197.716782</td>\n",
       "      <td>31673.075186</td>\n",
       "    </tr>\n",
       "    <tr>\n",
       "      <td>...</td>\n",
       "      <td>...</td>\n",
       "      <td>...</td>\n",
       "      <td>...</td>\n",
       "      <td>...</td>\n",
       "      <td>...</td>\n",
       "      <td>...</td>\n",
       "    </tr>\n",
       "    <tr>\n",
       "      <td>95</td>\n",
       "      <td>Sweden</td>\n",
       "      <td>82.722934</td>\n",
       "      <td>62949</td>\n",
       "      <td>17.390640</td>\n",
       "      <td>149.845309</td>\n",
       "      <td>69217.001059</td>\n",
       "    </tr>\n",
       "    <tr>\n",
       "      <td>96</td>\n",
       "      <td>Sweden</td>\n",
       "      <td>82.685258</td>\n",
       "      <td>55618</td>\n",
       "      <td>18.020843</td>\n",
       "      <td>209.959025</td>\n",
       "      <td>50357.436012</td>\n",
       "    </tr>\n",
       "    <tr>\n",
       "      <td>97</td>\n",
       "      <td>Sweden</td>\n",
       "      <td>82.530635</td>\n",
       "      <td>46058</td>\n",
       "      <td>16.141578</td>\n",
       "      <td>171.388025</td>\n",
       "      <td>60283.709223</td>\n",
       "    </tr>\n",
       "    <tr>\n",
       "      <td>98</td>\n",
       "      <td>Sweden</td>\n",
       "      <td>82.805719</td>\n",
       "      <td>59464</td>\n",
       "      <td>17.267168</td>\n",
       "      <td>145.609538</td>\n",
       "      <td>56932.697438</td>\n",
       "    </tr>\n",
       "    <tr>\n",
       "      <td>99</td>\n",
       "      <td>Sweden</td>\n",
       "      <td>82.575213</td>\n",
       "      <td>45544</td>\n",
       "      <td>17.771840</td>\n",
       "      <td>167.713119</td>\n",
       "      <td>74357.248480</td>\n",
       "    </tr>\n",
       "  </tbody>\n",
       "</table>\n",
       "<p>100 rows × 6 columns</p>\n",
       "</div>"
      ],
      "text/plain": [
       "   Country  Expectancy    IPC  Goverment  Professionals    Population\n",
       "0   France   82.702035  67751  18.861550     154.712100  58093.470543\n",
       "1   France   82.893530  57696  18.942652     158.653934  71096.040148\n",
       "2   France   82.953093  75514  17.716578     140.983774  41095.368155\n",
       "3   France   82.876373  62142  17.826330     145.866136  81803.252338\n",
       "4   France   82.412253  65713  15.873033     197.716782  31673.075186\n",
       "..     ...         ...    ...        ...            ...           ...\n",
       "95  Sweden   82.722934  62949  17.390640     149.845309  69217.001059\n",
       "96  Sweden   82.685258  55618  18.020843     209.959025  50357.436012\n",
       "97  Sweden   82.530635  46058  16.141578     171.388025  60283.709223\n",
       "98  Sweden   82.805719  59464  17.267168     145.609538  56932.697438\n",
       "99  Sweden   82.575213  45544  17.771840     167.713119  74357.248480\n",
       "\n",
       "[100 rows x 6 columns]"
      ]
     },
     "execution_count": 10,
     "metadata": {},
     "output_type": "execute_result"
    }
   ],
   "source": [
    "# And you can see the dataset below\n",
    "df"
   ]
  },
  {
   "cell_type": "markdown",
   "metadata": {},
   "source": [
    "## Evaluating the dataset \n",
    "_______________________________________________________________________________________________________________________________"
   ]
  },
  {
   "cell_type": "markdown",
   "metadata": {},
   "source": [
    "**Dimension Dataset:** the dataset contains 100 attributes under 6 variables, verifying the data created is correct."
   ]
  },
  {
   "cell_type": "code",
   "execution_count": 11,
   "metadata": {},
   "outputs": [
    {
     "data": {
      "text/plain": [
       "(100, 6)"
      ]
     },
     "execution_count": 11,
     "metadata": {},
     "output_type": "execute_result"
    }
   ],
   "source": [
    "#Dimension dataset\n",
    "df.shape"
   ]
  },
  {
   "cell_type": "markdown",
   "metadata": {},
   "source": [
    "**Summary of attributes:** We can see the summary of the attributes which include minimum, maximum, standards, percentiles among other information with the describe formula.\n",
    "\n",
    "From the information below we observe:\n",
    "\n",
    "- The mean expectancy is in line with the real data for these countries \n",
    "- IPC mean in Euros, also in line with real numbers from the choosen countries.\n",
    "- There is a media of more than 180 health professional for each 10.000 population and the goverment expend as average more than 17% in health  "
   ]
  },
  {
   "cell_type": "code",
   "execution_count": 12,
   "metadata": {},
   "outputs": [
    {
     "data": {
      "text/html": [
       "<div>\n",
       "<style scoped>\n",
       "    .dataframe tbody tr th:only-of-type {\n",
       "        vertical-align: middle;\n",
       "    }\n",
       "\n",
       "    .dataframe tbody tr th {\n",
       "        vertical-align: top;\n",
       "    }\n",
       "\n",
       "    .dataframe thead th {\n",
       "        text-align: right;\n",
       "    }\n",
       "</style>\n",
       "<table border=\"1\" class=\"dataframe\">\n",
       "  <thead>\n",
       "    <tr style=\"text-align: right;\">\n",
       "      <th></th>\n",
       "      <th>Expectancy</th>\n",
       "      <th>IPC</th>\n",
       "      <th>Goverment</th>\n",
       "      <th>Professionals</th>\n",
       "      <th>Population</th>\n",
       "    </tr>\n",
       "  </thead>\n",
       "  <tbody>\n",
       "    <tr>\n",
       "      <td>count</td>\n",
       "      <td>100.000000</td>\n",
       "      <td>100.000000</td>\n",
       "      <td>100.000000</td>\n",
       "      <td>100.000000</td>\n",
       "      <td>100.000000</td>\n",
       "    </tr>\n",
       "    <tr>\n",
       "      <td>mean</td>\n",
       "      <td>82.712085</td>\n",
       "      <td>59131.370000</td>\n",
       "      <td>17.376677</td>\n",
       "      <td>174.187794</td>\n",
       "      <td>51187.107053</td>\n",
       "    </tr>\n",
       "    <tr>\n",
       "      <td>std</td>\n",
       "      <td>0.175282</td>\n",
       "      <td>8731.028413</td>\n",
       "      <td>0.968512</td>\n",
       "      <td>24.678724</td>\n",
       "      <td>19433.563428</td>\n",
       "    </tr>\n",
       "    <tr>\n",
       "      <td>min</td>\n",
       "      <td>82.405688</td>\n",
       "      <td>45302.000000</td>\n",
       "      <td>15.690287</td>\n",
       "      <td>139.252689</td>\n",
       "      <td>1494.907475</td>\n",
       "    </tr>\n",
       "    <tr>\n",
       "      <td>25%</td>\n",
       "      <td>82.561855</td>\n",
       "      <td>52886.500000</td>\n",
       "      <td>16.591907</td>\n",
       "      <td>153.226389</td>\n",
       "      <td>40280.299844</td>\n",
       "    </tr>\n",
       "    <tr>\n",
       "      <td>50%</td>\n",
       "      <td>82.718556</td>\n",
       "      <td>58884.000000</td>\n",
       "      <td>17.465306</td>\n",
       "      <td>167.762132</td>\n",
       "      <td>51954.059635</td>\n",
       "    </tr>\n",
       "    <tr>\n",
       "      <td>75%</td>\n",
       "      <td>82.866409</td>\n",
       "      <td>65612.500000</td>\n",
       "      <td>18.069185</td>\n",
       "      <td>198.446507</td>\n",
       "      <td>60876.699319</td>\n",
       "    </tr>\n",
       "    <tr>\n",
       "      <td>max</td>\n",
       "      <td>82.997748</td>\n",
       "      <td>75868.000000</td>\n",
       "      <td>18.996643</td>\n",
       "      <td>220.754721</td>\n",
       "      <td>88017.618704</td>\n",
       "    </tr>\n",
       "  </tbody>\n",
       "</table>\n",
       "</div>"
      ],
      "text/plain": [
       "       Expectancy           IPC   Goverment  Professionals    Population\n",
       "count  100.000000    100.000000  100.000000     100.000000    100.000000\n",
       "mean    82.712085  59131.370000   17.376677     174.187794  51187.107053\n",
       "std      0.175282   8731.028413    0.968512      24.678724  19433.563428\n",
       "min     82.405688  45302.000000   15.690287     139.252689   1494.907475\n",
       "25%     82.561855  52886.500000   16.591907     153.226389  40280.299844\n",
       "50%     82.718556  58884.000000   17.465306     167.762132  51954.059635\n",
       "75%     82.866409  65612.500000   18.069185     198.446507  60876.699319\n",
       "max     82.997748  75868.000000   18.996643     220.754721  88017.618704"
      ]
     },
     "execution_count": 12,
     "metadata": {},
     "output_type": "execute_result"
    }
   ],
   "source": [
    "df.describe()"
   ]
  },
  {
   "cell_type": "code",
   "execution_count": 13,
   "metadata": {},
   "outputs": [
    {
     "data": {
      "text/plain": [
       "<seaborn.axisgrid.FacetGrid at 0x28abf182f08>"
      ]
     },
     "execution_count": 13,
     "metadata": {},
     "output_type": "execute_result"
    },
    {
     "data": {
      "image/png": "[encoded data removed]",
      "text/plain": [
       "<Figure size 360x360 with 1 Axes>"
      ]
     },
     "metadata": {
      "needs_background": "light"
     },
     "output_type": "display_data"
    }
   ],
   "source": [
    "sns.catplot(x=\"Country\", y=\"Expectancy\", data=df)"
   ]
  },
  {
   "cell_type": "code",
   "execution_count": null,
   "metadata": {},
   "outputs": [],
   "source": []
  },
  {
   "cell_type": "code",
   "execution_count": null,
   "metadata": {},
   "outputs": [],
   "source": []
  },
  {
   "cell_type": "markdown",
   "metadata": {},
   "source": [
    "## References\n",
    "- https://ec.europa.eu/eurostat/databrowser/view/sdg_03_10/default/bar?lang=en\n",
    "- https://www.kaggle.com/kumarajarshi/life-expectancy-who\n",
    "- https://www.statista.com/statistics/270861/life-expectancy-by-continent/\n",
    "- https://www.researchgate.net/figure/Life-expectancy-and-income-in-1941-focusing-on-Russia-Ukraine-and-Belarus2_fig7_317236927\n",
    "- https://rpubs.com/arjan/27543\n",
    "- https://chrisalbon.com/python/basics/generating_random_numbers_with_numpy/\n",
    "- https://pbpython.com/categorical-encoding.html\n",
    "- https://www.prb.org/international/indicator/gross-national-income/snapshot\n",
    "- https://www.prb.org/international/geography/europe\n",
    "- https://physics.nyu.edu/pine/pymanual/html/chap3/chap3_arrays.html\n",
    "- https://www.ined.fr/en/everything_about_population/demographic-facts-sheets/focus-on/life-expectancy-europe/\n",
    "- http://publicpolicy.ie/papers/irish-population-health-life-expectancy-and-mortality/\n",
    "- https://www.oecd-ilibrary.org/social-issues-migration-health/health-at-a-glance-europe-2018_health_glance_eur-2018-en\n",
    "- https://www.oecd-ilibrary.org/sites/health_glance_eur-2018-7-en/index.html?itemId=/content/component/health_glance_eur-2018-7-en\n",
    "- https://www.oecd-ilibrary.org/sites/health_glance_eur-2018-6-en/index.html?itemId=/content/component/health_glance_eur-2018-6-en#fig3.1"
   ]
  },
  {
   "cell_type": "code",
   "execution_count": null,
   "metadata": {},
   "outputs": [],
   "source": []
  },
  {
   "cell_type": "code",
   "execution_count": null,
   "metadata": {},
   "outputs": [],
   "source": []
  },
  {
   "cell_type": "code",
   "execution_count": null,
   "metadata": {},
   "outputs": [],
   "source": []
  }
 ],
 "metadata": {
  "kernelspec": {
   "display_name": "Python 3",
   "language": "python",
   "name": "python3"
  },
  "language_info": {
   "codemirror_mode": {
    "name": "ipython",
    "version": 3
   },
   "file_extension": ".py",
   "mimetype": "text/x-python",
   "name": "python",
   "nbconvert_exporter": "python",
   "pygments_lexer": "ipython3",
   "version": "3.7.4"
  }
 },
 "nbformat": 4,
 "nbformat_minor": 2
}
