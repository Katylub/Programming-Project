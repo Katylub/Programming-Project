{
 "cells": [
  {
   "cell_type": "markdown",
   "metadata": {},
   "source": [
    "# Project Introduction\n",
    "_______________________________________________________________________________________________________________________________"
   ]
  },
  {
   "cell_type": "markdown",
   "metadata": {},
   "source": [
    "This project concerns the simulation and creation of a real-world phenomenom dataset and compare the variables on it, using python packages as Numpy.In the project will be covered the academical requested points below:\n",
    "\n",
    "- Choose a real-world phenomenon that can be measured and for which you could collect at least one-hundred data points across at least four diﬀerent variables.\n",
    "- Investigate the types of variables involved, their likely distributions, and their relationships with each other.\n",
    "- Synthesise/simulate a data set as closely matching their properties as possible.\n",
    "- Detail your research and implement the simulation in a Jupyter notebook – the data set itself can simply be displayed in an output cell within the notebook.\n"
   ]
  },
  {
   "cell_type": "markdown",
   "metadata": {},
   "source": [
    "# Project Idea"
   ]
  },
  {
   "cell_type": "markdown",
   "metadata": {},
   "source": [
    "After several research and looking for ideas, I will pick up the real-world phenomenom of the life expectancy. \n",
    "\n",
    "I have noticed in my research that there are lots of studies on this matter and the factors to consider the variables can be wide, including social, economics, technological, demographic, quality of health, medical care, diet, among others. For this reason I will focus this project in the life expectancy, taking in consideration 4 countries, gender and population. \n",
    "\n",
    "The data choosen is similar to real parameters already calculated in other researchs as this [one](https://ec.europa.eu/eurostat/databrowser/view/sdg_03_10/default/bar?lang=en), with the exception of the population.\n",
    "\n",
    "I have taken gender and population as variables among the other multiple options for practical purpose, and will allow me to visualize how the variables influence between them. \n",
    "\n",
    "For this purpose we will evaluate the data for 4 countries represented with integer numbers: 1. Spain, 2. Ireland, 3. Norway, 4. Italy\n",
    "\n",
    "There are two variables for life expectancy for females and males represented with float numbers and they have a uniform distribution as the data is similar in Europe for this scale and as mentioned taking in consideration different analysis already done which are all referred below. \n",
    "\n",
    "The variable population is a random integer number and limited to a population between 100.000 and 1.000.000 which mean that in each country we take in consideration some cities. \n",
    "\n"
   ]
  },
  {
   "cell_type": "code",
   "execution_count": null,
   "metadata": {},
   "outputs": [],
   "source": []
  },
  {
   "cell_type": "markdown",
   "metadata": {},
   "source": [
    "Life expectancy female and males, years,  population, continent "
   ]
  },
  {
   "cell_type": "code",
   "execution_count": null,
   "metadata": {},
   "outputs": [],
   "source": []
  },
  {
   "cell_type": "markdown",
   "metadata": {},
   "source": [
    "Creation of Variables: The first variable we will create is Country, we are going to evaluate 4 countries and represent them by number1,2,3,4"
   ]
  },
  {
   "cell_type": "code",
   "execution_count": 2,
   "metadata": {},
   "outputs": [],
   "source": [
    "import numpy as np"
   ]
  },
  {
   "cell_type": "markdown",
   "metadata": {},
   "source": [
    "Country"
   ]
  },
  {
   "cell_type": "code",
   "execution_count": 24,
   "metadata": {},
   "outputs": [],
   "source": [
    "c= np.random.randint(1, 5, 100)"
   ]
  },
  {
   "cell_type": "markdown",
   "metadata": {},
   "source": [
    "Life Expectancy Females"
   ]
  },
  {
   "cell_type": "code",
   "execution_count": 18,
   "metadata": {},
   "outputs": [],
   "source": [
    "lef= np.random.uniform(81,83,100)"
   ]
  },
  {
   "cell_type": "markdown",
   "metadata": {},
   "source": [
    "Life Expectancy Males"
   ]
  },
  {
   "cell_type": "code",
   "execution_count": 19,
   "metadata": {},
   "outputs": [],
   "source": [
    "lem= np.random.uniform(74,76,100)"
   ]
  },
  {
   "cell_type": "markdown",
   "metadata": {},
   "source": [
    "Population"
   ]
  },
  {
   "cell_type": "code",
   "execution_count": 20,
   "metadata": {},
   "outputs": [],
   "source": [
    "pp= np.random.randint(low=100000, high=1000000, size=100)"
   ]
  },
  {
   "cell_type": "code",
   "execution_count": 32,
   "metadata": {},
   "outputs": [],
   "source": [
    "array = np.array([(c), (lef), (lem), (pp)])"
   ]
  },
  {
   "cell_type": "code",
   "execution_count": 33,
   "metadata": {},
   "outputs": [
    {
     "data": {
      "text/plain": [
       "array([[2.00000000e+00, 4.00000000e+00, 2.00000000e+00, 3.00000000e+00,\n",
       "        1.00000000e+00, 4.00000000e+00, 1.00000000e+00, 2.00000000e+00,\n",
       "        4.00000000e+00, 2.00000000e+00, 3.00000000e+00, 1.00000000e+00,\n",
       "        1.00000000e+00, 2.00000000e+00, 3.00000000e+00, 2.00000000e+00,\n",
       "        4.00000000e+00, 1.00000000e+00, 1.00000000e+00, 2.00000000e+00,\n",
       "        4.00000000e+00, 3.00000000e+00, 3.00000000e+00, 3.00000000e+00,\n",
       "        1.00000000e+00, 4.00000000e+00, 1.00000000e+00, 2.00000000e+00,\n",
       "        1.00000000e+00, 1.00000000e+00, 1.00000000e+00, 4.00000000e+00,\n",
       "        1.00000000e+00, 4.00000000e+00, 2.00000000e+00, 2.00000000e+00,\n",
       "        4.00000000e+00, 2.00000000e+00, 1.00000000e+00, 1.00000000e+00,\n",
       "        2.00000000e+00, 2.00000000e+00, 2.00000000e+00, 3.00000000e+00,\n",
       "        4.00000000e+00, 2.00000000e+00, 4.00000000e+00, 2.00000000e+00,\n",
       "        1.00000000e+00, 1.00000000e+00, 2.00000000e+00, 1.00000000e+00,\n",
       "        4.00000000e+00, 1.00000000e+00, 4.00000000e+00, 1.00000000e+00,\n",
       "        2.00000000e+00, 4.00000000e+00, 2.00000000e+00, 1.00000000e+00,\n",
       "        4.00000000e+00, 4.00000000e+00, 2.00000000e+00, 4.00000000e+00,\n",
       "        1.00000000e+00, 4.00000000e+00, 1.00000000e+00, 3.00000000e+00,\n",
       "        2.00000000e+00, 2.00000000e+00, 4.00000000e+00, 1.00000000e+00,\n",
       "        4.00000000e+00, 1.00000000e+00, 2.00000000e+00, 4.00000000e+00,\n",
       "        2.00000000e+00, 2.00000000e+00, 4.00000000e+00, 2.00000000e+00,\n",
       "        4.00000000e+00, 4.00000000e+00, 1.00000000e+00, 4.00000000e+00,\n",
       "        1.00000000e+00, 1.00000000e+00, 1.00000000e+00, 1.00000000e+00,\n",
       "        2.00000000e+00, 3.00000000e+00, 2.00000000e+00, 2.00000000e+00,\n",
       "        2.00000000e+00, 2.00000000e+00, 1.00000000e+00, 2.00000000e+00,\n",
       "        3.00000000e+00, 3.00000000e+00, 4.00000000e+00, 2.00000000e+00],\n",
       "       [8.18298220e+01, 8.10260805e+01, 8.26023378e+01, 8.18465287e+01,\n",
       "        8.24179003e+01, 8.23292547e+01, 8.15853619e+01, 8.24249608e+01,\n",
       "        8.11091935e+01, 8.13215707e+01, 8.26970020e+01, 8.22977437e+01,\n",
       "        8.21866589e+01, 8.23358343e+01, 8.11240150e+01, 8.14974412e+01,\n",
       "        8.25286184e+01, 8.16643577e+01, 8.14610458e+01, 8.25416598e+01,\n",
       "        8.16513175e+01, 8.28587875e+01, 8.17055600e+01, 8.28708830e+01,\n",
       "        8.24066149e+01, 8.25607115e+01, 8.17459323e+01, 8.18393705e+01,\n",
       "        8.13522859e+01, 8.27327019e+01, 8.17874625e+01, 8.17341457e+01,\n",
       "        8.16541589e+01, 8.26441817e+01, 8.17484292e+01, 8.21426198e+01,\n",
       "        8.28008768e+01, 8.23954063e+01, 8.28579132e+01, 8.23921527e+01,\n",
       "        8.26587621e+01, 8.25035522e+01, 8.10608867e+01, 8.27497880e+01,\n",
       "        8.26310485e+01, 8.11108071e+01, 8.19440059e+01, 8.16625025e+01,\n",
       "        8.27653451e+01, 8.22628378e+01, 8.25536831e+01, 8.13530748e+01,\n",
       "        8.16175501e+01, 8.14790667e+01, 8.25940540e+01, 8.20714177e+01,\n",
       "        8.21778638e+01, 8.18858493e+01, 8.28352248e+01, 8.21492668e+01,\n",
       "        8.11755922e+01, 8.29589798e+01, 8.24451890e+01, 8.28053968e+01,\n",
       "        8.10153377e+01, 8.16271189e+01, 8.17026393e+01, 8.23246362e+01,\n",
       "        8.20325516e+01, 8.28643830e+01, 8.29633365e+01, 8.24789721e+01,\n",
       "        8.19270626e+01, 8.20235003e+01, 8.20081868e+01, 8.26507204e+01,\n",
       "        8.26715076e+01, 8.16877395e+01, 8.11059990e+01, 8.16370486e+01,\n",
       "        8.16278689e+01, 8.23086483e+01, 8.10749020e+01, 8.13101451e+01,\n",
       "        8.22917954e+01, 8.20265776e+01, 8.24139657e+01, 8.24795023e+01,\n",
       "        8.13657273e+01, 8.14634731e+01, 8.29309227e+01, 8.21740020e+01,\n",
       "        8.18513310e+01, 8.21577882e+01, 8.21641384e+01, 8.16459054e+01,\n",
       "        8.23506509e+01, 8.25900625e+01, 8.23132019e+01, 8.21977222e+01],\n",
       "       [7.57468249e+01, 7.46618840e+01, 7.48980785e+01, 7.52790214e+01,\n",
       "        7.42588205e+01, 7.52204668e+01, 7.43061181e+01, 7.56294074e+01,\n",
       "        7.49250210e+01, 7.50238171e+01, 7.43872317e+01, 7.56349974e+01,\n",
       "        7.58440988e+01, 7.49769183e+01, 7.42191227e+01, 7.47343245e+01,\n",
       "        7.47173121e+01, 7.51920227e+01, 7.53085975e+01, 7.40801120e+01,\n",
       "        7.47164683e+01, 7.44439899e+01, 7.52704829e+01, 7.50350682e+01,\n",
       "        7.59317642e+01, 7.57456182e+01, 7.51542403e+01, 7.58009463e+01,\n",
       "        7.50793852e+01, 7.46295194e+01, 7.40787463e+01, 7.45623016e+01,\n",
       "        7.47137486e+01, 7.41009628e+01, 7.46463847e+01, 7.47654996e+01,\n",
       "        7.59742671e+01, 7.53558409e+01, 7.43119664e+01, 7.41101268e+01,\n",
       "        7.58231528e+01, 7.41631696e+01, 7.56511750e+01, 7.58480046e+01,\n",
       "        7.52629483e+01, 7.51818145e+01, 7.40639345e+01, 7.59904553e+01,\n",
       "        7.40160426e+01, 7.53550326e+01, 7.52196341e+01, 7.50677205e+01,\n",
       "        7.52354618e+01, 7.58825018e+01, 7.55630349e+01, 7.58452100e+01,\n",
       "        7.42617817e+01, 7.40117701e+01, 7.49040274e+01, 7.43102441e+01,\n",
       "        7.55953503e+01, 7.44941838e+01, 7.58176076e+01, 7.54605726e+01,\n",
       "        7.55872053e+01, 7.56534988e+01, 7.45495824e+01, 7.45628068e+01,\n",
       "        7.44114569e+01, 7.47346322e+01, 7.42703627e+01, 7.53843159e+01,\n",
       "        7.47930795e+01, 7.51392132e+01, 7.42034583e+01, 7.57372502e+01,\n",
       "        7.47280830e+01, 7.58976101e+01, 7.43868264e+01, 7.51039160e+01,\n",
       "        7.54713047e+01, 7.47887673e+01, 7.57593674e+01, 7.48253827e+01,\n",
       "        7.50241711e+01, 7.43797517e+01, 7.49381382e+01, 7.59758565e+01,\n",
       "        7.46599594e+01, 7.52515072e+01, 7.53428439e+01, 7.58504496e+01,\n",
       "        7.58833105e+01, 7.48878677e+01, 7.49460965e+01, 7.50898577e+01,\n",
       "        7.42868441e+01, 7.54073403e+01, 7.53167212e+01, 7.44228275e+01],\n",
       "       [3.24905000e+05, 7.00561000e+05, 4.07319000e+05, 7.94803000e+05,\n",
       "        6.98473000e+05, 2.20305000e+05, 9.27146000e+05, 7.58928000e+05,\n",
       "        1.98546000e+05, 6.01645000e+05, 5.27554000e+05, 9.93827000e+05,\n",
       "        8.00178000e+05, 8.57950000e+05, 1.48146000e+05, 4.63053000e+05,\n",
       "        2.98714000e+05, 2.14731000e+05, 2.20651000e+05, 3.36834000e+05,\n",
       "        7.97452000e+05, 6.11520000e+05, 1.06790000e+05, 4.52494000e+05,\n",
       "        5.41902000e+05, 5.32782000e+05, 6.60534000e+05, 8.94773000e+05,\n",
       "        7.09264000e+05, 9.29341000e+05, 9.53576000e+05, 5.12443000e+05,\n",
       "        2.34841000e+05, 3.24431000e+05, 1.29789000e+05, 2.57329000e+05,\n",
       "        1.01934000e+05, 2.47268000e+05, 5.84330000e+05, 5.11570000e+05,\n",
       "        5.30205000e+05, 3.29057000e+05, 9.72075000e+05, 3.34201000e+05,\n",
       "        2.63681000e+05, 5.36983000e+05, 8.37300000e+05, 9.03567000e+05,\n",
       "        7.94854000e+05, 2.60715000e+05, 2.45176000e+05, 9.42049000e+05,\n",
       "        2.50664000e+05, 7.74627000e+05, 5.24769000e+05, 7.12200000e+05,\n",
       "        8.69746000e+05, 6.58932000e+05, 1.48215000e+05, 3.98827000e+05,\n",
       "        1.26203000e+05, 9.87995000e+05, 2.05245000e+05, 8.24337000e+05,\n",
       "        2.18818000e+05, 7.87140000e+05, 3.65109000e+05, 2.41715000e+05,\n",
       "        7.97530000e+05, 1.65654000e+05, 9.55156000e+05, 2.93437000e+05,\n",
       "        7.32577000e+05, 4.96661000e+05, 8.79540000e+05, 3.18085000e+05,\n",
       "        1.96254000e+05, 8.98826000e+05, 4.88765000e+05, 4.40385000e+05,\n",
       "        5.28311000e+05, 4.96817000e+05, 5.33016000e+05, 1.85134000e+05,\n",
       "        5.14417000e+05, 9.20751000e+05, 4.33625000e+05, 8.29969000e+05,\n",
       "        1.55808000e+05, 8.35537000e+05, 1.48223000e+05, 9.69790000e+05,\n",
       "        1.57286000e+05, 8.76852000e+05, 5.86020000e+05, 5.83357000e+05,\n",
       "        7.64328000e+05, 8.28955000e+05, 9.76245000e+05, 4.62378000e+05]])"
      ]
     },
     "execution_count": 33,
     "metadata": {},
     "output_type": "execute_result"
    }
   ],
   "source": [
    "array"
   ]
  },
  {
   "cell_type": "code",
   "execution_count": 59,
   "metadata": {},
   "outputs": [],
   "source": [
    "import sqlite3"
   ]
  },
  {
   "cell_type": "code",
   "execution_count": 69,
   "metadata": {},
   "outputs": [],
   "source": [
    "#Create the database with the name Expectancy\n",
    "conn=sqlite3.connect('expectancydb.db')"
   ]
  },
  {
   "cell_type": "code",
   "execution_count": 70,
   "metadata": {},
   "outputs": [],
   "source": [
    "c=conn.cursor()"
   ]
  },
  {
   "cell_type": "code",
   "execution_count": 71,
   "metadata": {},
   "outputs": [
    {
     "data": {
      "text/plain": [
       "<sqlite3.Cursor at 0x18cfd6ff3b0>"
      ]
     },
     "execution_count": 71,
     "metadata": {},
     "output_type": "execute_result"
    }
   ],
   "source": [
    "c.execute ('''Create Table expectancydb \n",
    "           ([country] INTEGER PRIMARY KEY, [Life Expectancy Females] integer, [Life Expectancy male] integer, [population] integer)''')"
   ]
  },
  {
   "cell_type": "code",
   "execution_count": 72,
   "metadata": {},
   "outputs": [],
   "source": [
    "conn.commit()"
   ]
  },
  {
   "cell_type": "code",
   "execution_count": 1,
   "metadata": {},
   "outputs": [
    {
     "ename": "SyntaxError",
     "evalue": "invalid syntax (<ipython-input-1-9353407a39c1>, line 1)",
     "output_type": "error",
     "traceback": [
      "\u001b[1;36m  File \u001b[1;32m\"<ipython-input-1-9353407a39c1>\"\u001b[1;36m, line \u001b[1;32m1\u001b[0m\n\u001b[1;33m    c.execute (SELECT name FROM sqlite_master WHERE type='table')\u001b[0m\n\u001b[1;37m                         ^\u001b[0m\n\u001b[1;31mSyntaxError\u001b[0m\u001b[1;31m:\u001b[0m invalid syntax\n"
     ]
    }
   ],
   "source": [
    "c.execute (SELECT name FROM sqlite_master WHERE type='table')"
   ]
  },
  {
   "cell_type": "code",
   "execution_count": 81,
   "metadata": {},
   "outputs": [
    {
     "data": {
      "text/plain": [
       "[]"
      ]
     },
     "execution_count": 81,
     "metadata": {},
     "output_type": "execute_result"
    }
   ],
   "source": [
    "c.fetchall()"
   ]
  },
  {
   "cell_type": "code",
   "execution_count": null,
   "metadata": {},
   "outputs": [],
   "source": []
  },
  {
   "cell_type": "code",
   "execution_count": null,
   "metadata": {},
   "outputs": [],
   "source": []
  },
  {
   "cell_type": "code",
   "execution_count": null,
   "metadata": {},
   "outputs": [],
   "source": []
  },
  {
   "cell_type": "code",
   "execution_count": null,
   "metadata": {},
   "outputs": [],
   "source": []
  },
  {
   "cell_type": "code",
   "execution_count": null,
   "metadata": {},
   "outputs": [],
   "source": []
  },
  {
   "cell_type": "code",
   "execution_count": null,
   "metadata": {},
   "outputs": [],
   "source": []
  },
  {
   "cell_type": "code",
   "execution_count": null,
   "metadata": {},
   "outputs": [],
   "source": []
  },
  {
   "cell_type": "markdown",
   "metadata": {},
   "source": [
    "## References\n",
    "- https://ec.europa.eu/eurostat/databrowser/view/sdg_03_10/default/bar?lang=en\n",
    "- https://www.kaggle.com/kumarajarshi/life-expectancy-who\n",
    "- https://www.statista.com/statistics/270861/life-expectancy-by-continent/\n",
    "- https://www.researchgate.net/figure/Life-expectancy-and-income-in-1941-focusing-on-Russia-Ukraine-and-Belarus2_fig7_317236927\n",
    "- https://rpubs.com/arjan/27543\n",
    "- chrisalbon.com/python/basics/generating_random_numbers_with_numpy/\n",
    "- https://www.kaggle.com/kumarajarshi/life-expectancy-who\n",
    "- https://pbpython.com/categorical-encoding.html\n"
   ]
  },
  {
   "cell_type": "code",
   "execution_count": null,
   "metadata": {},
   "outputs": [],
   "source": []
  },
  {
   "cell_type": "code",
   "execution_count": null,
   "metadata": {},
   "outputs": [],
   "source": []
  }
 ],
 "metadata": {
  "kernelspec": {
   "display_name": "Python 3",
   "language": "python",
   "name": "python3"
  },
  "language_info": {
   "codemirror_mode": {
    "name": "ipython",
    "version": 3
   },
   "file_extension": ".py",
   "mimetype": "text/x-python",
   "name": "python",
   "nbconvert_exporter": "python",
   "pygments_lexer": "ipython3",
   "version": "3.7.4"
  }
 },
 "nbformat": 4,
 "nbformat_minor": 2
}
