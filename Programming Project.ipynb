{
 "cells": [
  {
   "cell_type": "markdown",
   "metadata": {},
   "source": [
    "# Project Introduction\n",
    "_______________________________________________________________________________________________________________________________"
   ]
  },
  {
   "cell_type": "markdown",
   "metadata": {},
   "source": [
    "This project concerns the simulation and creation of a real-world phenomenom dataset and compare the variables on it, using python packages as Numpy. In the project will be covered the academical requested points below:\n",
    "\n",
    "- Choose a real-world phenomenon that can be measured and for which you could collect at least one-hundred data points across at least four diﬀerent variables.\n",
    "- Investigate the types of variables involved, their likely distributions, and their relationships with each other.\n",
    "- Synthesise/simulate a data set as closely matching their properties as possible.\n",
    "- Detail your research and implement the simulation in a Jupyter notebook – the data set itself can simply be displayed in an output cell within the notebook.\n"
   ]
  },
  {
   "cell_type": "markdown",
   "metadata": {},
   "source": [
    "# Project Idea"
   ]
  },
  {
   "cell_type": "markdown",
   "metadata": {},
   "source": [
    "For this project and after research, I will pick the real-world phenomenom of life expectancy. \n",
    "\n",
    "Life expectancy is defined as the mean number of years that a new-born child can expect to live if subjected throughout his life to the current mortality conditions (age specific probabilities of dying).\n",
    "\n",
    "I have noticed that there are lots of studies on this matter considering demographic variables, income and mortality rates. There are multiple factors that affect directly on the life expectancy and I have found this matter interesting and the best option for this project. \n",
    "\n",
    "As mentioned the main variable to study will be the life expectancy (media) and will be taken as the first and most interesting variable for this Project purpose. As demograpy is one of the main factor that affect the life expectancy, I will evaluate 4 countries with 25 samples of population data from each country.\n",
    "\n",
    "The following variable will give more information about the life expectancy and economical atrributes as are closely related, so will be evaluated the income per capita (Euros).\n",
    "\n",
    "The other two variables measure the health force impact in life expectancy and the variables I took in consideration where the goverment expenditure (percentage) and a the density of health professionals in each contry.\n",
    "\n",
    "The countries that I choose have similar expectancy mean, and by coincidence I realised the other variables were similar as well, therefore I choose to add uniform random data in most of the variable except for population as the reference is for different sizes of town. \n",
    "\n",
    "Each variable will be explained with more details below in different order.\n"
   ]
  },
  {
   "cell_type": "markdown",
   "metadata": {},
   "source": [
    "# Create Dataset\n",
    "_______________________________________________________________________________________________________________________________"
   ]
  },
  {
   "cell_type": "markdown",
   "metadata": {},
   "source": [
    "**Country:** We will evaluate 4 countries with similar life expectancy. Each country will have 25 samples that represent cities from the country."
   ]
  },
  {
   "cell_type": "code",
   "execution_count": 1,
   "metadata": {},
   "outputs": [],
   "source": [
    "# First import all the libraries we will use in the project \n",
    "import numpy as np\n",
    "import pandas as pd\n",
    "import matplotlib.pyplot as plt\n",
    "import seaborn as sns\n",
    "%matplotlib inline\n",
    "\n",
    "# Creation of array with the 4 countries choosed\n",
    "c1=np.array(['France','Iceland','Norway','Sweden'])\n",
    "\n",
    "#Assign 25 rows to each country\n",
    "c2=np.repeat(c1, 25)"
   ]
  },
  {
   "cell_type": "markdown",
   "metadata": {},
   "source": [
    "**Life Expectancy:** This data will be represented as a floating number and the parameters are as close as possible to real data. The data was randomly choose using uniform distribution (See plot below), as the media life expectancy for these countries is similar. This is the reference [web page](https://ec.europa.eu/eurostat/databrowser/view/sdg_03_10/default/bar?lang=en).  "
   ]
  },
  {
   "cell_type": "code",
   "execution_count": 2,
   "metadata": {},
   "outputs": [
    {
     "data": {
      "image/png": "[encoded data removed]",
      "text/plain": [
       "<Figure size 432x288 with 1 Axes>"
      ]
     },
     "metadata": {
      "needs_background": "light"
     },
     "output_type": "display_data"
    }
   ],
   "source": [
    "# Assign uniform number similar to the real media register for life expectancy\n",
    "le= np.random.uniform(82,83,100)\n",
    "\n",
    "# Import Matplotlib which will be used to create the plots and see variables distribution\n",
    "import matplotlib.pyplot as plt\n",
    "\n",
    "#Plot of Life Expectancy Variable\n",
    "lep = plt.hist(le, bins=10, density=True)"
   ]
  },
  {
   "cell_type": "markdown",
   "metadata": {},
   "source": [
    "**Gross National Income Per Capita:** This data is represented as a integer number and the parameters are adjusted from real data references and you can see this information in the web page used [here](https://www.prb.org/international/indicator/gross-national-income/snapshot). The data was randomly choose using uniform distribution, as the media income for these countries is between these parameters and not far from each other. "
   ]
  },
  {
   "cell_type": "code",
   "execution_count": 3,
   "metadata": {},
   "outputs": [
    {
     "data": {
      "image/png": "[encoded data removed]",
      "text/plain": [
       "<Figure size 432x288 with 1 Axes>"
      ]
     },
     "metadata": {
      "needs_background": "light"
     },
     "output_type": "display_data"
    }
   ],
   "source": [
    "# Assign uniform number similar to the real media register for Income Per Capita\n",
    "ipc= np.random.randint(low=45000, high=76000, size=100)\n",
    "\n",
    "#Plot of Fross Income Per Capita\n",
    "ipcp = plt.hist(ipc, bins=10, density=True)"
   ]
  },
  {
   "cell_type": "markdown",
   "metadata": {},
   "source": [
    "**% Goverment Health Expenditure:** General government expenditure on health as a percentage of total government expenditure. This data is represented as a integer number and the parameters are adjusted from real data references and you can see this information in the web page used [here](http://apps.who.int/gho/portal/uhc-hss-cabinet-wrapper-v2.jsp?id=1030202). The data was randomly choose using uniform distribution, as the media goverment expenditure for these countries is between these parameters and not far from each other. "
   ]
  },
  {
   "cell_type": "code",
   "execution_count": 4,
   "metadata": {},
   "outputs": [
    {
     "data": {
      "image/png": "[encoded data removed]",
      "text/plain": [
       "<Figure size 432x288 with 1 Axes>"
      ]
     },
     "metadata": {
      "needs_background": "light"
     },
     "output_type": "display_data"
    }
   ],
   "source": [
    "# Assign uniform number similar to the real media register for Goverment Health Expenditure\n",
    "ghe = np.random.uniform(15.69,19.03,100)\n",
    "\n",
    "#Plot of Goverment Health Expenditure \n",
    "ghep = plt.hist(ghe, bins=10, density=True)"
   ]
  },
  {
   "cell_type": "markdown",
   "metadata": {},
   "source": [
    "**Health professionals density:** Health professionals density per 10 000 population. This data is represented as a integer number and the parameters are adjusted from real data references and you can see this information in the web page used [here](http://apps.who.int/gho/portal/uhc-hss-cabinet-wrapper-v2.jsp?id=1030301). The data was randomly choose using uniform distribution, as the media professional density for these countries is between these parameters and not far from each other. "
   ]
  },
  {
   "cell_type": "code",
   "execution_count": 5,
   "metadata": {},
   "outputs": [
    {
     "data": {
      "image/png": "[encoded data removed]",
      "text/plain": [
       "<Figure size 432x288 with 1 Axes>"
      ]
     },
     "metadata": {
      "needs_background": "light"
     },
     "output_type": "display_data"
    }
   ],
   "source": [
    "# Assign uniform number similar to the real media register for Health Professional Density\n",
    "hpd = np.random.uniform (138,221.1,100)\n",
    "\n",
    "#Plot of Health Professionals Density\n",
    "ghep = plt.hist(ghe, bins=10, density=True)"
   ]
  },
  {
   "cell_type": "markdown",
   "metadata": {},
   "source": [
    "**Population per cities of the country:** This variable will represent the population on each city/sate of the cities evaluated for the research. For this variable, I will take triangular distribution to represent different population sizes and the number is between 0 and 100.000 with a peak of 50.000. These numbers are in line with the other variables choosen. In general the dataset will contain 25 samples for each city."
   ]
  },
  {
   "cell_type": "code",
   "execution_count": 6,
   "metadata": {},
   "outputs": [
    {
     "data": {
      "image/png": "[encoded data removed]",
      "text/plain": [
       "<Figure size 432x288 with 1 Axes>"
      ]
     },
     "metadata": {
      "needs_background": "light"
     },
     "output_type": "display_data"
    }
   ],
   "source": [
    "# Assign triangular number for population between o and 100.000 with a peak of 50.000\n",
    "pp = np.random.triangular(0, 50000, 100000, 100)\n",
    "\n",
    "#Plot of Population cities\n",
    "ppp = plt.hist(pp, bins=10, density=True)"
   ]
  },
  {
   "cell_type": "markdown",
   "metadata": {},
   "source": [
    "## Dataset: \n",
    "Now that we have created the variables we can put all the variables together for our dataset."
   ]
  },
  {
   "cell_type": "code",
   "execution_count": 7,
   "metadata": {},
   "outputs": [],
   "source": [
    "# Import Pandas package to create the dataframe\n",
    "import pandas as pd"
   ]
  },
  {
   "cell_type": "code",
   "execution_count": 8,
   "metadata": {},
   "outputs": [],
   "source": [
    "#First we created the function\n",
    "df= pd.DataFrame()\n",
    "\n",
    "#Assign the variables name \n",
    "Country = c2\n",
    "Expectancy = le\n",
    "IPC = ipc\n",
    "Goverment = ghe\n",
    "Professionals = hpd\n",
    "Population = pp\n",
    "\n",
    "#Add to the Dataframe the variables\n",
    "df['Country'] = c2\n",
    "df['Expectancy'] = le\n",
    "df['IPC'] = ipc\n",
    "df['Goverment'] = ghe\n",
    "df['Professionals'] = hpd\n",
    "df['Population'] = pp"
   ]
  },
  {
   "cell_type": "code",
   "execution_count": 9,
   "metadata": {},
   "outputs": [
    {
     "data": {
      "text/html": [
       "<div>\n",
       "<style scoped>\n",
       "    .dataframe tbody tr th:only-of-type {\n",
       "        vertical-align: middle;\n",
       "    }\n",
       "\n",
       "    .dataframe tbody tr th {\n",
       "        vertical-align: top;\n",
       "    }\n",
       "\n",
       "    .dataframe thead th {\n",
       "        text-align: right;\n",
       "    }\n",
       "</style>\n",
       "<table border=\"1\" class=\"dataframe\">\n",
       "  <thead>\n",
       "    <tr style=\"text-align: right;\">\n",
       "      <th></th>\n",
       "      <th>Country</th>\n",
       "      <th>Expectancy</th>\n",
       "      <th>IPC</th>\n",
       "      <th>Goverment</th>\n",
       "      <th>Professionals</th>\n",
       "      <th>Population</th>\n",
       "    </tr>\n",
       "  </thead>\n",
       "  <tbody>\n",
       "    <tr>\n",
       "      <td>0</td>\n",
       "      <td>France</td>\n",
       "      <td>82.596814</td>\n",
       "      <td>60856</td>\n",
       "      <td>18.983693</td>\n",
       "      <td>177.403396</td>\n",
       "      <td>52943.681603</td>\n",
       "    </tr>\n",
       "    <tr>\n",
       "      <td>1</td>\n",
       "      <td>France</td>\n",
       "      <td>82.976490</td>\n",
       "      <td>74644</td>\n",
       "      <td>15.702584</td>\n",
       "      <td>149.841965</td>\n",
       "      <td>39960.946814</td>\n",
       "    </tr>\n",
       "    <tr>\n",
       "      <td>2</td>\n",
       "      <td>France</td>\n",
       "      <td>82.164346</td>\n",
       "      <td>52645</td>\n",
       "      <td>18.564506</td>\n",
       "      <td>200.289119</td>\n",
       "      <td>64735.043093</td>\n",
       "    </tr>\n",
       "    <tr>\n",
       "      <td>3</td>\n",
       "      <td>France</td>\n",
       "      <td>82.560107</td>\n",
       "      <td>46185</td>\n",
       "      <td>16.677787</td>\n",
       "      <td>213.808993</td>\n",
       "      <td>77011.355477</td>\n",
       "    </tr>\n",
       "    <tr>\n",
       "      <td>4</td>\n",
       "      <td>France</td>\n",
       "      <td>82.101631</td>\n",
       "      <td>58488</td>\n",
       "      <td>16.929517</td>\n",
       "      <td>142.295098</td>\n",
       "      <td>54307.190392</td>\n",
       "    </tr>\n",
       "    <tr>\n",
       "      <td>...</td>\n",
       "      <td>...</td>\n",
       "      <td>...</td>\n",
       "      <td>...</td>\n",
       "      <td>...</td>\n",
       "      <td>...</td>\n",
       "      <td>...</td>\n",
       "    </tr>\n",
       "    <tr>\n",
       "      <td>95</td>\n",
       "      <td>Sweden</td>\n",
       "      <td>82.375785</td>\n",
       "      <td>50873</td>\n",
       "      <td>18.748199</td>\n",
       "      <td>182.521690</td>\n",
       "      <td>11224.479875</td>\n",
       "    </tr>\n",
       "    <tr>\n",
       "      <td>96</td>\n",
       "      <td>Sweden</td>\n",
       "      <td>82.758160</td>\n",
       "      <td>64543</td>\n",
       "      <td>18.896831</td>\n",
       "      <td>176.230447</td>\n",
       "      <td>24520.658008</td>\n",
       "    </tr>\n",
       "    <tr>\n",
       "      <td>97</td>\n",
       "      <td>Sweden</td>\n",
       "      <td>82.483335</td>\n",
       "      <td>75586</td>\n",
       "      <td>18.753022</td>\n",
       "      <td>188.855877</td>\n",
       "      <td>76275.056594</td>\n",
       "    </tr>\n",
       "    <tr>\n",
       "      <td>98</td>\n",
       "      <td>Sweden</td>\n",
       "      <td>82.463511</td>\n",
       "      <td>65010</td>\n",
       "      <td>18.865412</td>\n",
       "      <td>154.345891</td>\n",
       "      <td>3047.987689</td>\n",
       "    </tr>\n",
       "    <tr>\n",
       "      <td>99</td>\n",
       "      <td>Sweden</td>\n",
       "      <td>82.499711</td>\n",
       "      <td>48041</td>\n",
       "      <td>16.208081</td>\n",
       "      <td>158.245454</td>\n",
       "      <td>30766.979490</td>\n",
       "    </tr>\n",
       "  </tbody>\n",
       "</table>\n",
       "<p>100 rows × 6 columns</p>\n",
       "</div>"
      ],
      "text/plain": [
       "   Country  Expectancy    IPC  Goverment  Professionals    Population\n",
       "0   France   82.596814  60856  18.983693     177.403396  52943.681603\n",
       "1   France   82.976490  74644  15.702584     149.841965  39960.946814\n",
       "2   France   82.164346  52645  18.564506     200.289119  64735.043093\n",
       "3   France   82.560107  46185  16.677787     213.808993  77011.355477\n",
       "4   France   82.101631  58488  16.929517     142.295098  54307.190392\n",
       "..     ...         ...    ...        ...            ...           ...\n",
       "95  Sweden   82.375785  50873  18.748199     182.521690  11224.479875\n",
       "96  Sweden   82.758160  64543  18.896831     176.230447  24520.658008\n",
       "97  Sweden   82.483335  75586  18.753022     188.855877  76275.056594\n",
       "98  Sweden   82.463511  65010  18.865412     154.345891   3047.987689\n",
       "99  Sweden   82.499711  48041  16.208081     158.245454  30766.979490\n",
       "\n",
       "[100 rows x 6 columns]"
      ]
     },
     "execution_count": 9,
     "metadata": {},
     "output_type": "execute_result"
    }
   ],
   "source": [
    "# And you can see the dataset below\n",
    "df"
   ]
  },
  {
   "cell_type": "markdown",
   "metadata": {},
   "source": [
    "## Evaluating the dataset \n",
    "_______________________________________________________________________________________________________________________________"
   ]
  },
  {
   "cell_type": "markdown",
   "metadata": {},
   "source": [
    "**Dimension Dataset:** the dataset contains 100 attributes under 6 variables, verifying the data created is correct."
   ]
  },
  {
   "cell_type": "code",
   "execution_count": 10,
   "metadata": {},
   "outputs": [
    {
     "data": {
      "text/plain": [
       "(100, 6)"
      ]
     },
     "execution_count": 10,
     "metadata": {},
     "output_type": "execute_result"
    }
   ],
   "source": [
    "#Dimension dataset\n",
    "df.shape"
   ]
  },
  {
   "cell_type": "markdown",
   "metadata": {},
   "source": [
    "**Summary of attributes:** We can see the summary of the attributes which include minimum, maximum, standards, percentiles among other information with the describe formula.\n",
    "\n",
    "From the information below we observe:\n",
    "\n",
    "- The mean expectancy is 82.6 which is in line with the real data for these countries \n",
    "- IPC mean i 62.024 Euros, also in line with real numbers from the choosen countries.\n",
    "- There is a media of 181 health professional for each 10.000 population and the goverment expend as average 17.43% in health  "
   ]
  },
  {
   "cell_type": "code",
   "execution_count": 11,
   "metadata": {},
   "outputs": [
    {
     "data": {
      "text/html": [
       "<div>\n",
       "<style scoped>\n",
       "    .dataframe tbody tr th:only-of-type {\n",
       "        vertical-align: middle;\n",
       "    }\n",
       "\n",
       "    .dataframe tbody tr th {\n",
       "        vertical-align: top;\n",
       "    }\n",
       "\n",
       "    .dataframe thead th {\n",
       "        text-align: right;\n",
       "    }\n",
       "</style>\n",
       "<table border=\"1\" class=\"dataframe\">\n",
       "  <thead>\n",
       "    <tr style=\"text-align: right;\">\n",
       "      <th></th>\n",
       "      <th>Expectancy</th>\n",
       "      <th>IPC</th>\n",
       "      <th>Goverment</th>\n",
       "      <th>Professionals</th>\n",
       "      <th>Population</th>\n",
       "    </tr>\n",
       "  </thead>\n",
       "  <tbody>\n",
       "    <tr>\n",
       "      <td>count</td>\n",
       "      <td>100.000000</td>\n",
       "      <td>100.000000</td>\n",
       "      <td>100.000000</td>\n",
       "      <td>100.000000</td>\n",
       "      <td>100.000000</td>\n",
       "    </tr>\n",
       "    <tr>\n",
       "      <td>mean</td>\n",
       "      <td>82.536892</td>\n",
       "      <td>61053.880000</td>\n",
       "      <td>17.348767</td>\n",
       "      <td>179.624334</td>\n",
       "      <td>47346.147437</td>\n",
       "    </tr>\n",
       "    <tr>\n",
       "      <td>std</td>\n",
       "      <td>0.287717</td>\n",
       "      <td>10039.577243</td>\n",
       "      <td>0.979429</td>\n",
       "      <td>23.552921</td>\n",
       "      <td>22046.524714</td>\n",
       "    </tr>\n",
       "    <tr>\n",
       "      <td>min</td>\n",
       "      <td>82.045500</td>\n",
       "      <td>45027.000000</td>\n",
       "      <td>15.700441</td>\n",
       "      <td>140.028777</td>\n",
       "      <td>3047.987689</td>\n",
       "    </tr>\n",
       "    <tr>\n",
       "      <td>25%</td>\n",
       "      <td>82.301315</td>\n",
       "      <td>52136.000000</td>\n",
       "      <td>16.735262</td>\n",
       "      <td>159.119849</td>\n",
       "      <td>31919.896213</td>\n",
       "    </tr>\n",
       "    <tr>\n",
       "      <td>50%</td>\n",
       "      <td>82.535630</td>\n",
       "      <td>61174.500000</td>\n",
       "      <td>17.275881</td>\n",
       "      <td>176.306413</td>\n",
       "      <td>49009.044755</td>\n",
       "    </tr>\n",
       "    <tr>\n",
       "      <td>75%</td>\n",
       "      <td>82.767312</td>\n",
       "      <td>70677.000000</td>\n",
       "      <td>18.034346</td>\n",
       "      <td>201.185984</td>\n",
       "      <td>62893.461065</td>\n",
       "    </tr>\n",
       "    <tr>\n",
       "      <td>max</td>\n",
       "      <td>82.987008</td>\n",
       "      <td>75973.000000</td>\n",
       "      <td>19.019996</td>\n",
       "      <td>220.261592</td>\n",
       "      <td>98009.556657</td>\n",
       "    </tr>\n",
       "  </tbody>\n",
       "</table>\n",
       "</div>"
      ],
      "text/plain": [
       "       Expectancy           IPC   Goverment  Professionals    Population\n",
       "count  100.000000    100.000000  100.000000     100.000000    100.000000\n",
       "mean    82.536892  61053.880000   17.348767     179.624334  47346.147437\n",
       "std      0.287717  10039.577243    0.979429      23.552921  22046.524714\n",
       "min     82.045500  45027.000000   15.700441     140.028777   3047.987689\n",
       "25%     82.301315  52136.000000   16.735262     159.119849  31919.896213\n",
       "50%     82.535630  61174.500000   17.275881     176.306413  49009.044755\n",
       "75%     82.767312  70677.000000   18.034346     201.185984  62893.461065\n",
       "max     82.987008  75973.000000   19.019996     220.261592  98009.556657"
      ]
     },
     "execution_count": 11,
     "metadata": {},
     "output_type": "execute_result"
    }
   ],
   "source": [
    "df.describe()"
   ]
  },
  {
   "cell_type": "code",
   "execution_count": 12,
   "metadata": {},
   "outputs": [
    {
     "data": {
      "text/plain": [
       "<seaborn.axisgrid.FacetGrid at 0x2150cbae848>"
      ]
     },
     "execution_count": 12,
     "metadata": {},
     "output_type": "execute_result"
    },
    {
     "data": {
      "image/png": "[encoded data removed]",
      "text/plain": [
       "<Figure size 360x360 with 1 Axes>"
      ]
     },
     "metadata": {
      "needs_background": "light"
     },
     "output_type": "display_data"
    }
   ],
   "source": [
    "sns.catplot(x=\"Country\", y=\"Expectancy\", data=df)"
   ]
  },
  {
   "cell_type": "code",
   "execution_count": null,
   "metadata": {},
   "outputs": [],
   "source": []
  },
  {
   "cell_type": "code",
   "execution_count": null,
   "metadata": {},
   "outputs": [],
   "source": []
  },
  {
   "cell_type": "markdown",
   "metadata": {},
   "source": [
    "## References\n",
    "- https://ec.europa.eu/eurostat/databrowser/view/sdg_03_10/default/bar?lang=en\n",
    "- https://www.kaggle.com/kumarajarshi/life-expectancy-who\n",
    "- https://www.statista.com/statistics/270861/life-expectancy-by-continent/\n",
    "- https://www.researchgate.net/figure/Life-expectancy-and-income-in-1941-focusing-on-Russia-Ukraine-and-Belarus2_fig7_317236927\n",
    "- https://rpubs.com/arjan/27543\n",
    "- https://chrisalbon.com/python/basics/generating_random_numbers_with_numpy/\n",
    "- https://pbpython.com/categorical-encoding.html\n",
    "- https://www.prb.org/international/indicator/gross-national-income/snapshot\n",
    "https://www.prb.org/international/geography/europe\n",
    "- https://physics.nyu.edu/pine/pymanual/html/chap3/chap3_arrays.html\n",
    "https://www.ined.fr/en/everything_about_population/demographic-facts-sheets/focus-on/life-expectancy-europe/\n",
    "http://publicpolicy.ie/papers/irish-population-health-life-expectancy-and-mortality/\n",
    "https://www.oecd-ilibrary.org/social-issues-migration-health/health-at-a-glance-europe-2018_health_glance_eur-2018-en"
   ]
  },
  {
   "cell_type": "code",
   "execution_count": null,
   "metadata": {},
   "outputs": [],
   "source": []
  },
  {
   "cell_type": "code",
   "execution_count": null,
   "metadata": {},
   "outputs": [],
   "source": []
  },
  {
   "cell_type": "code",
   "execution_count": null,
   "metadata": {},
   "outputs": [],
   "source": []
  }
 ],
 "metadata": {
  "kernelspec": {
   "display_name": "Python 3",
   "language": "python",
   "name": "python3"
  },
  "language_info": {
   "codemirror_mode": {
    "name": "ipython",
    "version": 3
   },
   "file_extension": ".py",
   "mimetype": "text/x-python",
   "name": "python",
   "nbconvert_exporter": "python",
   "pygments_lexer": "ipython3",
   "version": "3.7.4"
  }
 },
 "nbformat": 4,
 "nbformat_minor": 2
}
