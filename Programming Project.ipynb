{
 "cells": [
  {
   "cell_type": "markdown",
   "metadata": {},
   "source": [
    "# Project Introduction\n",
    "_______________________________________________________________________________________________________________________________"
   ]
  },
  {
   "cell_type": "markdown",
   "metadata": {},
   "source": [
    "This project concerns the simulation and creation of a real-world phenomenom dataset and compare the variables on it, using python packages as Numpy.In the project will be covered the academical requested points below:\n",
    "\n",
    "- Choose a real-world phenomenon that can be measured and for which you could collect at least one-hundred data points across at least four diﬀerent variables.\n",
    "- Investigate the types of variables involved, their likely distributions, and their relationships with each other.\n",
    "- Synthesise/simulate a data set as closely matching their properties as possible.\n",
    "- Detail your research and implement the simulation in a Jupyter notebook – the data set itself can simply be displayed in an output cell within the notebook.\n"
   ]
  },
  {
   "cell_type": "markdown",
   "metadata": {},
   "source": [
    "# Project Idea"
   ]
  },
  {
   "cell_type": "markdown",
   "metadata": {},
   "source": [
    "For this project and after research, I will pick the real-world phenomenom of life expectancy and the factors that affect it. \n",
    "\n",
    "Life expectancy is defined as the mean number of years that a new-born child can expect to live if subjected throughout his life to the current mortality conditions (age specific probabilities of dying).\n",
    "\n",
    "I have noticed that there are lots of studies on this matter and there are multiple factors including social, economics, technological, etc. that affect directly on the life expectancy and were not taken in consideration before. I have find this matter interesting and the best option for this project, I have seen life expectancy is different by gender, so I will take in consideration th variables for male and female to compare the difference, also I will evaluate the data taking in consideration 4 countries for research, and the gross income per capita. \n",
    "\n",
    "The data choosen is randomly created, trying to have parameters as similar as possible to the real data, taking in consideration other studies already done, that will be named in the project.\n",
    "\n",
    "As mentiones, you will see two variables of life expectancy for men and women, this information will allow me to visualize the influence between both variables and the rest of the data. Both variables will be float numbers in line with real statistics taken from this [web](https://ec.europa.eu/eurostat/databrowser/view/sdg_03_10/default/bar?lang=en)\n",
    "\n",
    "For this purpose we will evaluate the data for 4 countries represented with integer numbers: 1. France, 2. Iceland, 3. Norway, 4. Sweden\n",
    "\n",
    "There are two variables for life expectancy for females and males represented with float numbers and they have a uniform distribution as the data is similar in Europe for this scale and as mentioned taking in consideration different analysis already done which are all referred below. \n",
    "\n",
    "The variable population is a random integer number and limited to a population between 100.000 and 1.000.000 which mean that in each country we take in consideration some cities. \n",
    "\n"
   ]
  },
  {
   "cell_type": "markdown",
   "metadata": {},
   "source": [
    "Life expectancy female and males, years,  population, continent "
   ]
  },
  {
   "cell_type": "markdown",
   "metadata": {},
   "source": [
    "**Country:** We will evaluate 4 countries and they will be represented as integer, as we will assign a number to each of them. Each country will have 25 rows.\n",
    "1. France\n",
    "2. Iceland\n",
    "3. Norway\n",
    "4. Sweden"
   ]
  },
  {
   "cell_type": "code",
   "execution_count": 50,
   "metadata": {},
   "outputs": [],
   "source": [
    "# First we import Numpy which will be used to create all the random variables\n",
    "import numpy as np\n",
    "\n",
    "# Creation of array with 4 number of the list\n",
    "c1=np.array([1,2,3,4])\n",
    "\n",
    "#Assign 25 rows to each number\n",
    "c2=np.repeat(c1, 25)"
   ]
  },
  {
   "cell_type": "markdown",
   "metadata": {},
   "source": [
    "**Life Expectancy Females:** This data will be represented as a floating number and the parameters are as close as possible to real data. This is the reference [web page](https://www.statista.com/statistics/270861/life-expectancy-by-continent/).  "
   ]
  },
  {
   "cell_type": "code",
   "execution_count": 51,
   "metadata": {},
   "outputs": [],
   "source": [
    "# We assign uniform number similar to the real media register for Females life expectancy\n",
    "lef= np.random.uniform(81,83,100)"
   ]
  },
  {
   "cell_type": "markdown",
   "metadata": {},
   "source": [
    "**Life Expectancy Males:** This data will be represented as a floating number and the parameters are as close as possible to real data. This is the reference [web page](https://www.statista.com/statistics/270861/life-expectancy-by-continent/).  "
   ]
  },
  {
   "cell_type": "code",
   "execution_count": 52,
   "metadata": {},
   "outputs": [],
   "source": [
    "# We assign uniform number similar to the real media register for males life expectancy\n",
    "lem= np.random.uniform(74,76,100)"
   ]
  },
  {
   "cell_type": "markdown",
   "metadata": {},
   "source": [
    "**Gross National Income Per Capita:** This data is represented as a integer number and the parameters are adjusted from real data references and you can see this information in the web page used [here](https://www.prb.org/international/indicator/gross-national-income/snapshot)"
   ]
  },
  {
   "cell_type": "code",
   "execution_count": 53,
   "metadata": {},
   "outputs": [],
   "source": [
    "ipc= np.random.randint(low=45000, high=76000, size=100)"
   ]
  },
  {
   "cell_type": "markdown",
   "metadata": {},
   "source": [
    "**% Goverment Health Expenditure:** General government expenditure on health as a percentage of total government expenditure. This data is represented as a integer number and the parameters are adjusted from real data references and you can see this information in the web page used [here](http://apps.who.int/gho/portal/uhc-hss-cabinet-wrapper-v2.jsp?id=1030202)"
   ]
  },
  {
   "cell_type": "code",
   "execution_count": 57,
   "metadata": {},
   "outputs": [],
   "source": [
    "ghe = np.random.uniform(15.69,19.03,100)"
   ]
  },
  {
   "cell_type": "markdown",
   "metadata": {},
   "source": [
    "**Dataframe**: Now that we have created the variables we can put all the variables together for our dataset."
   ]
  },
  {
   "cell_type": "code",
   "execution_count": null,
   "metadata": {},
   "outputs": [],
   "source": []
  },
  {
   "cell_type": "code",
   "execution_count": 58,
   "metadata": {},
   "outputs": [],
   "source": [
    "import pandas as pd"
   ]
  },
  {
   "cell_type": "code",
   "execution_count": 59,
   "metadata": {},
   "outputs": [],
   "source": [
    "#First we created the function\n",
    "df= pd.DataFrame()\n",
    "#Assign the variables\n",
    "Country = c2\n",
    "Females = lef\n",
    "Males = lem\n",
    "IPC = ipc\n",
    "GHE = ghe\n",
    "#Add to the function\n",
    "df['Country'] = c2\n",
    "df['Females'] = lef\n",
    "df['Males'] = lem\n",
    "df['IPC'] = ipc\n",
    "df['GHE'] = ghe"
   ]
  },
  {
   "cell_type": "code",
   "execution_count": 60,
   "metadata": {},
   "outputs": [
    {
     "data": {
      "text/html": [
       "<div>\n",
       "<style scoped>\n",
       "    .dataframe tbody tr th:only-of-type {\n",
       "        vertical-align: middle;\n",
       "    }\n",
       "\n",
       "    .dataframe tbody tr th {\n",
       "        vertical-align: top;\n",
       "    }\n",
       "\n",
       "    .dataframe thead th {\n",
       "        text-align: right;\n",
       "    }\n",
       "</style>\n",
       "<table border=\"1\" class=\"dataframe\">\n",
       "  <thead>\n",
       "    <tr style=\"text-align: right;\">\n",
       "      <th></th>\n",
       "      <th>Country</th>\n",
       "      <th>Females</th>\n",
       "      <th>Males</th>\n",
       "      <th>IPC</th>\n",
       "      <th>GHE</th>\n",
       "    </tr>\n",
       "  </thead>\n",
       "  <tbody>\n",
       "    <tr>\n",
       "      <td>0</td>\n",
       "      <td>1</td>\n",
       "      <td>82.903668</td>\n",
       "      <td>75.586694</td>\n",
       "      <td>65067</td>\n",
       "      <td>15.875095</td>\n",
       "    </tr>\n",
       "    <tr>\n",
       "      <td>1</td>\n",
       "      <td>1</td>\n",
       "      <td>82.440012</td>\n",
       "      <td>75.765714</td>\n",
       "      <td>46111</td>\n",
       "      <td>17.147323</td>\n",
       "    </tr>\n",
       "    <tr>\n",
       "      <td>2</td>\n",
       "      <td>1</td>\n",
       "      <td>81.078053</td>\n",
       "      <td>74.573459</td>\n",
       "      <td>52800</td>\n",
       "      <td>16.594212</td>\n",
       "    </tr>\n",
       "    <tr>\n",
       "      <td>3</td>\n",
       "      <td>1</td>\n",
       "      <td>82.408228</td>\n",
       "      <td>75.603314</td>\n",
       "      <td>67010</td>\n",
       "      <td>16.994500</td>\n",
       "    </tr>\n",
       "    <tr>\n",
       "      <td>4</td>\n",
       "      <td>1</td>\n",
       "      <td>82.204628</td>\n",
       "      <td>74.442948</td>\n",
       "      <td>64673</td>\n",
       "      <td>18.148991</td>\n",
       "    </tr>\n",
       "    <tr>\n",
       "      <td>...</td>\n",
       "      <td>...</td>\n",
       "      <td>...</td>\n",
       "      <td>...</td>\n",
       "      <td>...</td>\n",
       "      <td>...</td>\n",
       "    </tr>\n",
       "    <tr>\n",
       "      <td>95</td>\n",
       "      <td>4</td>\n",
       "      <td>82.915972</td>\n",
       "      <td>75.907876</td>\n",
       "      <td>45895</td>\n",
       "      <td>18.950121</td>\n",
       "    </tr>\n",
       "    <tr>\n",
       "      <td>96</td>\n",
       "      <td>4</td>\n",
       "      <td>81.877760</td>\n",
       "      <td>75.843714</td>\n",
       "      <td>61445</td>\n",
       "      <td>17.427757</td>\n",
       "    </tr>\n",
       "    <tr>\n",
       "      <td>97</td>\n",
       "      <td>4</td>\n",
       "      <td>81.651246</td>\n",
       "      <td>75.268260</td>\n",
       "      <td>51279</td>\n",
       "      <td>17.544296</td>\n",
       "    </tr>\n",
       "    <tr>\n",
       "      <td>98</td>\n",
       "      <td>4</td>\n",
       "      <td>82.170837</td>\n",
       "      <td>75.960295</td>\n",
       "      <td>58018</td>\n",
       "      <td>17.839573</td>\n",
       "    </tr>\n",
       "    <tr>\n",
       "      <td>99</td>\n",
       "      <td>4</td>\n",
       "      <td>82.377431</td>\n",
       "      <td>75.129224</td>\n",
       "      <td>47378</td>\n",
       "      <td>17.786468</td>\n",
       "    </tr>\n",
       "  </tbody>\n",
       "</table>\n",
       "<p>100 rows × 5 columns</p>\n",
       "</div>"
      ],
      "text/plain": [
       "    Country    Females      Males    IPC        GHE\n",
       "0         1  82.903668  75.586694  65067  15.875095\n",
       "1         1  82.440012  75.765714  46111  17.147323\n",
       "2         1  81.078053  74.573459  52800  16.594212\n",
       "3         1  82.408228  75.603314  67010  16.994500\n",
       "4         1  82.204628  74.442948  64673  18.148991\n",
       "..      ...        ...        ...    ...        ...\n",
       "95        4  82.915972  75.907876  45895  18.950121\n",
       "96        4  81.877760  75.843714  61445  17.427757\n",
       "97        4  81.651246  75.268260  51279  17.544296\n",
       "98        4  82.170837  75.960295  58018  17.839573\n",
       "99        4  82.377431  75.129224  47378  17.786468\n",
       "\n",
       "[100 rows x 5 columns]"
      ]
     },
     "execution_count": 60,
     "metadata": {},
     "output_type": "execute_result"
    }
   ],
   "source": [
    "df"
   ]
  },
  {
   "cell_type": "code",
   "execution_count": null,
   "metadata": {},
   "outputs": [],
   "source": []
  },
  {
   "cell_type": "code",
   "execution_count": null,
   "metadata": {},
   "outputs": [],
   "source": []
  },
  {
   "cell_type": "markdown",
   "metadata": {},
   "source": [
    "## References\n",
    "- https://ec.europa.eu/eurostat/databrowser/view/sdg_03_10/default/bar?lang=en\n",
    "- https://www.kaggle.com/kumarajarshi/life-expectancy-who\n",
    "- https://www.statista.com/statistics/270861/life-expectancy-by-continent/\n",
    "- https://www.researchgate.net/figure/Life-expectancy-and-income-in-1941-focusing-on-Russia-Ukraine-and-Belarus2_fig7_317236927\n",
    "- https://rpubs.com/arjan/27543\n",
    "- chrisalbon.com/python/basics/generating_random_numbers_with_numpy/\n",
    "- https://www.kaggle.com/kumarajarshi/life-expectancy-who\n",
    "- https://pbpython.com/categorical-encoding.html\n",
    "- https://www.prb.org/international/indicator/gross-national-income/snapshot\n",
    "https://www.prb.org/international/geography/europe"
   ]
  },
  {
   "cell_type": "code",
   "execution_count": null,
   "metadata": {},
   "outputs": [],
   "source": []
  },
  {
   "cell_type": "code",
   "execution_count": null,
   "metadata": {},
   "outputs": [],
   "source": []
  }
 ],
 "metadata": {
  "kernelspec": {
   "display_name": "Python 3",
   "language": "python",
   "name": "python3"
  },
  "language_info": {
   "codemirror_mode": {
    "name": "ipython",
    "version": 3
   },
   "file_extension": ".py",
   "mimetype": "text/x-python",
   "name": "python",
   "nbconvert_exporter": "python",
   "pygments_lexer": "ipython3",
   "version": "3.7.4"
  }
 },
 "nbformat": 4,
 "nbformat_minor": 2
}
