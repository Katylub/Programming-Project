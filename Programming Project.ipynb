{
 "cells": [
  {
   "cell_type": "markdown",
   "metadata": {},
   "source": [
    "# Project Introduction\n",
    "_______________________________________________________________________________________________________________________________"
   ]
  },
  {
   "cell_type": "markdown",
   "metadata": {},
   "source": [
    "This project concerns the simulation and creation of a real-world phenomenom dataset and compare the variables on it, using python packages as Numpy. In the project will be covered the academical requested points below:\n",
    "\n",
    "- Choose a real-world phenomenon that can be measured and for which you could collect at least one-hundred data points across at least four diﬀerent variables.\n",
    "- Investigate the types of variables involved, their likely distributions, and their relationships with each other.\n",
    "- Synthesise/simulate a data set as closely matching their properties as possible.\n",
    "- Detail your research and implement the simulation in a Jupyter notebook – the data set itself can simply be displayed in an output cell within the notebook.\n"
   ]
  },
  {
   "cell_type": "markdown",
   "metadata": {},
   "source": [
    "# Project Idea"
   ]
  },
  {
   "cell_type": "markdown",
   "metadata": {},
   "source": [
    "For this project and after research, I will pick the real-world phenomenom of life expectancy. \n",
    "\n",
    "Life expectancy is defined as the mean number of years that a new-born child can expect to live if subjected throughout his life to the current mortality conditions (age specific probabilities of dying).\n",
    "\n",
    "I have noticed that there are lots of studies on this matter considering demographic variables, income and mortality rates. There are multiple factors that affect directly on the life expectancy and I have found this matter interesting and the best option for this project. \n",
    "\n",
    "As mentioned the main variable to study will be the life expectancy (media) and will be taken as the first and most interesting variable for this Project purpose. As demograpy is one of the main factor that affect the life expectancy, I will evaluate 4 countries with 25 samples of population data from each country.\n",
    "\n",
    "The following variable will give more information about the life expectancy and economical atrributes as are closely related, so will be evaluated the income per capita (Euros).\n",
    "\n",
    "The other two variables measure the health force impact in life expectancy and the variables I took in consideration where the goverment expenditure (percentage) and a the density of health professionals in each contry.\n",
    "\n",
    "The countries that I choose have similar expectancy mean, and by coincidence I realised the other variables were similar as well, therefore I choose to add uniform random data in most of the variable except for population as the reference is for different sizes of town. \n",
    "\n",
    "Each variable will be explained with more details below and are not in different order.\n"
   ]
  },
  {
   "cell_type": "markdown",
   "metadata": {},
   "source": [
    "# Create Dataset\n",
    "_______________________________________________________________________________________________________________________________"
   ]
  },
  {
   "cell_type": "markdown",
   "metadata": {},
   "source": [
    "**Country:** We will evaluate 4 countries and they will be represented as integer, I will assign a number to each of them. Each country will have 25 rows and is represented as below:\n",
    "1. France\n",
    "2. Iceland\n",
    "3. Norway\n",
    "4. Sweden"
   ]
  },
  {
   "cell_type": "code",
   "execution_count": 38,
   "metadata": {},
   "outputs": [],
   "source": [
    "# First import Numpy which will be used to create all the random variables\n",
    "import numpy as np\n",
    "\n",
    "# Creation of array with 4 number of the list\n",
    "c1=np.array(['France','Iceland','Norway','Sweden'])\n",
    "\n",
    "#Assign 25 rows to each number\n",
    "c2=np.repeat(c1, 25)"
   ]
  },
  {
   "cell_type": "markdown",
   "metadata": {},
   "source": [
    "**Life Expectancy:** This data will be represented as a floating number and the parameters are as close as possible to real data. The data was randomly choose using uniform distribution (See plot below), as the media life expectancy for these countries is similar. This is the reference [web page](https://ec.europa.eu/eurostat/databrowser/view/sdg_03_10/default/bar?lang=en).  "
   ]
  },
  {
   "cell_type": "code",
   "execution_count": 39,
   "metadata": {},
   "outputs": [
    {
     "data": {
      "image/png": "[encoded data removed]",
      "text/plain": [
       "<Figure size 432x288 with 1 Axes>"
      ]
     },
     "metadata": {
      "needs_background": "light"
     },
     "output_type": "display_data"
    }
   ],
   "source": [
    "# Assign uniform number similar to the real media register for life expectancy\n",
    "le= np.random.uniform(82.1,83.1,100)\n",
    "\n",
    "# Import Matplotlib which will be used to create the plots and see variables distribution\n",
    "import matplotlib.pyplot as plt\n",
    "\n",
    "#Plot of Life Expectancy Variable\n",
    "lep = plt.hist(le, bins=10, density=True)"
   ]
  },
  {
   "cell_type": "markdown",
   "metadata": {},
   "source": [
    "**Gross National Income Per Capita:** This data is represented as a integer number and the parameters are adjusted from real data references and you can see this information in the web page used [here](https://www.prb.org/international/indicator/gross-national-income/snapshot). The data was randomly choose using uniform distribution, as the media income for these countries is between these parameters and not far from each other. "
   ]
  },
  {
   "cell_type": "code",
   "execution_count": 40,
   "metadata": {},
   "outputs": [
    {
     "data": {
      "image/png": "[encoded data removed]",
      "text/plain": [
       "<Figure size 432x288 with 1 Axes>"
      ]
     },
     "metadata": {
      "needs_background": "light"
     },
     "output_type": "display_data"
    }
   ],
   "source": [
    "# Assign uniform number similar to the real media register for Income Per Capita\n",
    "ipc= np.random.randint(low=45000, high=76000, size=100)\n",
    "\n",
    "#Plot of Fross Income Per Capita\n",
    "ipcp = plt.hist(ipc, bins=10, density=True)"
   ]
  },
  {
   "cell_type": "markdown",
   "metadata": {},
   "source": [
    "**% Goverment Health Expenditure:** General government expenditure on health as a percentage of total government expenditure. This data is represented as a integer number and the parameters are adjusted from real data references and you can see this information in the web page used [here](http://apps.who.int/gho/portal/uhc-hss-cabinet-wrapper-v2.jsp?id=1030202). The data was randomly choose using uniform distribution, as the media goverment expenditure for these countries is between these parameters and not far from each other. "
   ]
  },
  {
   "cell_type": "code",
   "execution_count": 41,
   "metadata": {},
   "outputs": [
    {
     "data": {
      "image/png": "[encoded data removed]",
      "text/plain": [
       "<Figure size 432x288 with 1 Axes>"
      ]
     },
     "metadata": {
      "needs_background": "light"
     },
     "output_type": "display_data"
    }
   ],
   "source": [
    "# Assign uniform number similar to the real media register for Goverment Health Expenditure\n",
    "ghe = np.random.uniform(15.69,19.03,100)\n",
    "\n",
    "#Plot of Goverment Health Expenditure \n",
    "ghep = plt.hist(ghe, bins=10, density=True)"
   ]
  },
  {
   "cell_type": "markdown",
   "metadata": {},
   "source": [
    "**Health professionals density:** Health professionals density per 10 000 population. This data is represented as a integer number and the parameters are adjusted from real data references and you can see this information in the web page used [here](http://apps.who.int/gho/portal/uhc-hss-cabinet-wrapper-v2.jsp?id=1030301). The data was randomly choose using uniform distribution, as the media professional density for these countries is between these parameters and not far from each other. "
   ]
  },
  {
   "cell_type": "code",
   "execution_count": 42,
   "metadata": {},
   "outputs": [
    {
     "data": {
      "image/png": "[encoded data removed]",
      "text/plain": [
       "<Figure size 432x288 with 1 Axes>"
      ]
     },
     "metadata": {
      "needs_background": "light"
     },
     "output_type": "display_data"
    }
   ],
   "source": [
    "# Assign uniform number similar to the real media register for Health Professional Density\n",
    "hpd = np.random.uniform (138,221.1,100)\n",
    "\n",
    "#Plot of Health Professionals Density\n",
    "ghep = plt.hist(ghe, bins=10, density=True)"
   ]
  },
  {
   "cell_type": "markdown",
   "metadata": {},
   "source": [
    "**Population per cities of the country:** This variable will represent the population on each city/sate of the cities evaluated for the research. For this variable, I will take triangular distribution to represent different population sizes and the number is between 0 and 100.000 with a peak of 50.000. These numbers are in line with the other variables choosen. In general the dataset will contain 25 samples for each city."
   ]
  },
  {
   "cell_type": "code",
   "execution_count": 43,
   "metadata": {},
   "outputs": [
    {
     "data": {
      "image/png": "[encoded data removed]",
      "text/plain": [
       "<Figure size 432x288 with 1 Axes>"
      ]
     },
     "metadata": {
      "needs_background": "light"
     },
     "output_type": "display_data"
    }
   ],
   "source": [
    "# Assign triangular number for population between o and 100.000 with a peak of 50.000\n",
    "pp = np.random.triangular(0, 50000, 100000, 100)\n",
    "\n",
    "#Plot of Population cities\n",
    "ppp = plt.hist(pp, bins=10, density=True)"
   ]
  },
  {
   "cell_type": "markdown",
   "metadata": {},
   "source": [
    "## Dataset: \n",
    "Now that we have created the variables we can put all the variables together for our dataset."
   ]
  },
  {
   "cell_type": "code",
   "execution_count": 44,
   "metadata": {},
   "outputs": [],
   "source": [
    "# Import Pandas package to create the dataframe\n",
    "import pandas as pd"
   ]
  },
  {
   "cell_type": "code",
   "execution_count": 45,
   "metadata": {},
   "outputs": [],
   "source": [
    "#First we created the function\n",
    "df= pd.DataFrame()\n",
    "\n",
    "#Assign the variables\n",
    "Country = c2\n",
    "Expectancy = le\n",
    "IPC = ipc\n",
    "Goverment = ghe\n",
    "Professionals = hpd\n",
    "Population = pp\n",
    "\n",
    "#Add to the function\n",
    "df['Country'] = c2\n",
    "df['Expectancy'] = le\n",
    "df['IPC'] = ipc\n",
    "df['Goverment'] = ghe\n",
    "df['Professionals'] = hpd\n",
    "df['Population'] = pp"
   ]
  },
  {
   "cell_type": "code",
   "execution_count": 46,
   "metadata": {},
   "outputs": [
    {
     "data": {
      "text/html": [
       "<div>\n",
       "<style scoped>\n",
       "    .dataframe tbody tr th:only-of-type {\n",
       "        vertical-align: middle;\n",
       "    }\n",
       "\n",
       "    .dataframe tbody tr th {\n",
       "        vertical-align: top;\n",
       "    }\n",
       "\n",
       "    .dataframe thead th {\n",
       "        text-align: right;\n",
       "    }\n",
       "</style>\n",
       "<table border=\"1\" class=\"dataframe\">\n",
       "  <thead>\n",
       "    <tr style=\"text-align: right;\">\n",
       "      <th></th>\n",
       "      <th>Country</th>\n",
       "      <th>Expectancy</th>\n",
       "      <th>IPC</th>\n",
       "      <th>Goverment</th>\n",
       "      <th>Professionals</th>\n",
       "      <th>Population</th>\n",
       "    </tr>\n",
       "  </thead>\n",
       "  <tbody>\n",
       "    <tr>\n",
       "      <td>0</td>\n",
       "      <td>France</td>\n",
       "      <td>82.285025</td>\n",
       "      <td>74947</td>\n",
       "      <td>16.119916</td>\n",
       "      <td>154.268190</td>\n",
       "      <td>65339.994120</td>\n",
       "    </tr>\n",
       "    <tr>\n",
       "      <td>1</td>\n",
       "      <td>France</td>\n",
       "      <td>82.327994</td>\n",
       "      <td>54047</td>\n",
       "      <td>17.754278</td>\n",
       "      <td>149.823787</td>\n",
       "      <td>50463.237718</td>\n",
       "    </tr>\n",
       "    <tr>\n",
       "      <td>2</td>\n",
       "      <td>France</td>\n",
       "      <td>82.476490</td>\n",
       "      <td>74028</td>\n",
       "      <td>15.761322</td>\n",
       "      <td>217.936243</td>\n",
       "      <td>8863.571749</td>\n",
       "    </tr>\n",
       "    <tr>\n",
       "      <td>3</td>\n",
       "      <td>France</td>\n",
       "      <td>82.687613</td>\n",
       "      <td>66216</td>\n",
       "      <td>17.809588</td>\n",
       "      <td>176.292037</td>\n",
       "      <td>74043.218103</td>\n",
       "    </tr>\n",
       "    <tr>\n",
       "      <td>4</td>\n",
       "      <td>France</td>\n",
       "      <td>82.836252</td>\n",
       "      <td>50394</td>\n",
       "      <td>17.737641</td>\n",
       "      <td>221.023932</td>\n",
       "      <td>18443.347491</td>\n",
       "    </tr>\n",
       "    <tr>\n",
       "      <td>...</td>\n",
       "      <td>...</td>\n",
       "      <td>...</td>\n",
       "      <td>...</td>\n",
       "      <td>...</td>\n",
       "      <td>...</td>\n",
       "      <td>...</td>\n",
       "    </tr>\n",
       "    <tr>\n",
       "      <td>95</td>\n",
       "      <td>Sweden</td>\n",
       "      <td>82.749331</td>\n",
       "      <td>51805</td>\n",
       "      <td>16.108202</td>\n",
       "      <td>155.476214</td>\n",
       "      <td>90123.142453</td>\n",
       "    </tr>\n",
       "    <tr>\n",
       "      <td>96</td>\n",
       "      <td>Sweden</td>\n",
       "      <td>82.326471</td>\n",
       "      <td>46151</td>\n",
       "      <td>16.869997</td>\n",
       "      <td>188.875270</td>\n",
       "      <td>7526.447544</td>\n",
       "    </tr>\n",
       "    <tr>\n",
       "      <td>97</td>\n",
       "      <td>Sweden</td>\n",
       "      <td>82.217254</td>\n",
       "      <td>57544</td>\n",
       "      <td>16.321166</td>\n",
       "      <td>183.557676</td>\n",
       "      <td>67846.319604</td>\n",
       "    </tr>\n",
       "    <tr>\n",
       "      <td>98</td>\n",
       "      <td>Sweden</td>\n",
       "      <td>82.894042</td>\n",
       "      <td>46781</td>\n",
       "      <td>18.038141</td>\n",
       "      <td>172.206039</td>\n",
       "      <td>38448.646754</td>\n",
       "    </tr>\n",
       "    <tr>\n",
       "      <td>99</td>\n",
       "      <td>Sweden</td>\n",
       "      <td>82.659887</td>\n",
       "      <td>58994</td>\n",
       "      <td>16.662960</td>\n",
       "      <td>218.475484</td>\n",
       "      <td>16083.080924</td>\n",
       "    </tr>\n",
       "  </tbody>\n",
       "</table>\n",
       "<p>100 rows × 6 columns</p>\n",
       "</div>"
      ],
      "text/plain": [
       "   Country  Expectancy    IPC  Goverment  Professionals    Population\n",
       "0   France   82.285025  74947  16.119916     154.268190  65339.994120\n",
       "1   France   82.327994  54047  17.754278     149.823787  50463.237718\n",
       "2   France   82.476490  74028  15.761322     217.936243   8863.571749\n",
       "3   France   82.687613  66216  17.809588     176.292037  74043.218103\n",
       "4   France   82.836252  50394  17.737641     221.023932  18443.347491\n",
       "..     ...         ...    ...        ...            ...           ...\n",
       "95  Sweden   82.749331  51805  16.108202     155.476214  90123.142453\n",
       "96  Sweden   82.326471  46151  16.869997     188.875270   7526.447544\n",
       "97  Sweden   82.217254  57544  16.321166     183.557676  67846.319604\n",
       "98  Sweden   82.894042  46781  18.038141     172.206039  38448.646754\n",
       "99  Sweden   82.659887  58994  16.662960     218.475484  16083.080924\n",
       "\n",
       "[100 rows x 6 columns]"
      ]
     },
     "execution_count": 46,
     "metadata": {},
     "output_type": "execute_result"
    }
   ],
   "source": [
    "# And you can see the dataset below\n",
    "df"
   ]
  },
  {
   "cell_type": "markdown",
   "metadata": {},
   "source": [
    "## Evaluating the dataset \n",
    "_______________________________________________________________________________________________________________________________"
   ]
  },
  {
   "cell_type": "markdown",
   "metadata": {},
   "source": [
    "**Dimension Dataset:** the dataset contains 100 attributes under 6 variables, verifying the data created is correct."
   ]
  },
  {
   "cell_type": "code",
   "execution_count": 33,
   "metadata": {},
   "outputs": [
    {
     "data": {
      "text/plain": [
       "(100, 6)"
      ]
     },
     "execution_count": 33,
     "metadata": {},
     "output_type": "execute_result"
    }
   ],
   "source": [
    "#Dimension dataset\n",
    "df.shape"
   ]
  },
  {
   "cell_type": "markdown",
   "metadata": {},
   "source": [
    "**Summary of attributes:** We can see the summary of the attributes which include minimum, maximum, standards, percentiles among other information with the describe formula.\n",
    "\n",
    "From the information below we observe:\n",
    "\n",
    "- The mean expectancy is 82.6 which is in line with the real data for these countries \n",
    "- IPC mean i 62.024 Euros, also in line with real numbers from the choosen countries.\n",
    "- There is a media of 181 health professional for each 10.000 population and the goverment expend as average 17.43% in health  "
   ]
  },
  {
   "cell_type": "code",
   "execution_count": 35,
   "metadata": {},
   "outputs": [
    {
     "data": {
      "text/html": [
       "<div>\n",
       "<style scoped>\n",
       "    .dataframe tbody tr th:only-of-type {\n",
       "        vertical-align: middle;\n",
       "    }\n",
       "\n",
       "    .dataframe tbody tr th {\n",
       "        vertical-align: top;\n",
       "    }\n",
       "\n",
       "    .dataframe thead th {\n",
       "        text-align: right;\n",
       "    }\n",
       "</style>\n",
       "<table border=\"1\" class=\"dataframe\">\n",
       "  <thead>\n",
       "    <tr style=\"text-align: right;\">\n",
       "      <th></th>\n",
       "      <th>Country</th>\n",
       "      <th>Expectancy</th>\n",
       "      <th>IPC</th>\n",
       "      <th>Goverment</th>\n",
       "      <th>Professionals</th>\n",
       "      <th>Population</th>\n",
       "    </tr>\n",
       "  </thead>\n",
       "  <tbody>\n",
       "    <tr>\n",
       "      <td>count</td>\n",
       "      <td>100.000000</td>\n",
       "      <td>100.000000</td>\n",
       "      <td>100.000000</td>\n",
       "      <td>100.000000</td>\n",
       "      <td>100.000000</td>\n",
       "      <td>100.000000</td>\n",
       "    </tr>\n",
       "    <tr>\n",
       "      <td>mean</td>\n",
       "      <td>2.500000</td>\n",
       "      <td>82.643881</td>\n",
       "      <td>59852.030000</td>\n",
       "      <td>17.327954</td>\n",
       "      <td>178.082183</td>\n",
       "      <td>50631.455456</td>\n",
       "    </tr>\n",
       "    <tr>\n",
       "      <td>std</td>\n",
       "      <td>1.123666</td>\n",
       "      <td>0.270302</td>\n",
       "      <td>9157.437524</td>\n",
       "      <td>1.010245</td>\n",
       "      <td>22.452065</td>\n",
       "      <td>21576.129398</td>\n",
       "    </tr>\n",
       "    <tr>\n",
       "      <td>min</td>\n",
       "      <td>1.000000</td>\n",
       "      <td>82.105318</td>\n",
       "      <td>45394.000000</td>\n",
       "      <td>15.711056</td>\n",
       "      <td>138.131146</td>\n",
       "      <td>6531.550214</td>\n",
       "    </tr>\n",
       "    <tr>\n",
       "      <td>25%</td>\n",
       "      <td>1.750000</td>\n",
       "      <td>82.414204</td>\n",
       "      <td>51017.750000</td>\n",
       "      <td>16.514260</td>\n",
       "      <td>161.313121</td>\n",
       "      <td>35178.271656</td>\n",
       "    </tr>\n",
       "    <tr>\n",
       "      <td>50%</td>\n",
       "      <td>2.500000</td>\n",
       "      <td>82.656257</td>\n",
       "      <td>59621.500000</td>\n",
       "      <td>17.117179</td>\n",
       "      <td>178.189298</td>\n",
       "      <td>50712.625495</td>\n",
       "    </tr>\n",
       "    <tr>\n",
       "      <td>75%</td>\n",
       "      <td>3.250000</td>\n",
       "      <td>82.903857</td>\n",
       "      <td>67696.500000</td>\n",
       "      <td>18.230282</td>\n",
       "      <td>197.295730</td>\n",
       "      <td>65329.552191</td>\n",
       "    </tr>\n",
       "    <tr>\n",
       "      <td>max</td>\n",
       "      <td>4.000000</td>\n",
       "      <td>83.083708</td>\n",
       "      <td>75953.000000</td>\n",
       "      <td>19.028822</td>\n",
       "      <td>218.573639</td>\n",
       "      <td>98859.984092</td>\n",
       "    </tr>\n",
       "  </tbody>\n",
       "</table>\n",
       "</div>"
      ],
      "text/plain": [
       "          Country  Expectancy           IPC   Goverment  Professionals  \\\n",
       "count  100.000000  100.000000    100.000000  100.000000     100.000000   \n",
       "mean     2.500000   82.643881  59852.030000   17.327954     178.082183   \n",
       "std      1.123666    0.270302   9157.437524    1.010245      22.452065   \n",
       "min      1.000000   82.105318  45394.000000   15.711056     138.131146   \n",
       "25%      1.750000   82.414204  51017.750000   16.514260     161.313121   \n",
       "50%      2.500000   82.656257  59621.500000   17.117179     178.189298   \n",
       "75%      3.250000   82.903857  67696.500000   18.230282     197.295730   \n",
       "max      4.000000   83.083708  75953.000000   19.028822     218.573639   \n",
       "\n",
       "         Population  \n",
       "count    100.000000  \n",
       "mean   50631.455456  \n",
       "std    21576.129398  \n",
       "min     6531.550214  \n",
       "25%    35178.271656  \n",
       "50%    50712.625495  \n",
       "75%    65329.552191  \n",
       "max    98859.984092  "
      ]
     },
     "execution_count": 35,
     "metadata": {},
     "output_type": "execute_result"
    }
   ],
   "source": [
    "df.describe()"
   ]
  },
  {
   "cell_type": "code",
   "execution_count": null,
   "metadata": {},
   "outputs": [],
   "source": []
  },
  {
   "cell_type": "code",
   "execution_count": null,
   "metadata": {},
   "outputs": [],
   "source": []
  },
  {
   "cell_type": "code",
   "execution_count": null,
   "metadata": {},
   "outputs": [],
   "source": []
  },
  {
   "cell_type": "code",
   "execution_count": null,
   "metadata": {},
   "outputs": [],
   "source": []
  },
  {
   "cell_type": "markdown",
   "metadata": {},
   "source": [
    "## References\n",
    "- https://ec.europa.eu/eurostat/databrowser/view/sdg_03_10/default/bar?lang=en\n",
    "- https://www.kaggle.com/kumarajarshi/life-expectancy-who\n",
    "- https://www.statista.com/statistics/270861/life-expectancy-by-continent/\n",
    "- https://www.researchgate.net/figure/Life-expectancy-and-income-in-1941-focusing-on-Russia-Ukraine-and-Belarus2_fig7_317236927\n",
    "- https://rpubs.com/arjan/27543\n",
    "- https://chrisalbon.com/python/basics/generating_random_numbers_with_numpy/\n",
    "- https://www.kaggle.com/kumarajarshi/life-expectancy-who\n",
    "- https://pbpython.com/categorical-encoding.html\n",
    "- https://www.prb.org/international/indicator/gross-national-income/snapshot\n",
    "https://www.prb.org/international/geography/europe"
   ]
  },
  {
   "cell_type": "code",
   "execution_count": null,
   "metadata": {},
   "outputs": [],
   "source": []
  },
  {
   "cell_type": "code",
   "execution_count": null,
   "metadata": {},
   "outputs": [],
   "source": []
  },
  {
   "cell_type": "code",
   "execution_count": null,
   "metadata": {},
   "outputs": [],
   "source": []
  }
 ],
 "metadata": {
  "kernelspec": {
   "display_name": "Python 3",
   "language": "python",
   "name": "python3"
  },
  "language_info": {
   "codemirror_mode": {
    "name": "ipython",
    "version": 3
   },
   "file_extension": ".py",
   "mimetype": "text/x-python",
   "name": "python",
   "nbconvert_exporter": "python",
   "pygments_lexer": "ipython3",
   "version": "3.7.4"
  }
 },
 "nbformat": 4,
 "nbformat_minor": 2
}
